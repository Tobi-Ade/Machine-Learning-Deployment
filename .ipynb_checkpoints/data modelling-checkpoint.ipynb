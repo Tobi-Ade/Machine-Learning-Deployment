{
 "cells": [
  {
   "cell_type": "markdown",
   "id": "0af34e85-4bf9-4839-b464-ced1fd3faf7a",
   "metadata": {},
   "source": [
    "## This Notebook shows the data modelling process on the cleaned data"
   ]
  },
  {
   "cell_type": "code",
   "execution_count": 68,
   "id": "24a2c4b1-75f3-4c2f-ac03-dca458a3a34b",
   "metadata": {},
   "outputs": [],
   "source": [
    "import pandas as pd \n",
    "import numpy as np \n",
    "import seaborn as sns \n",
    "import matplotlib.pyplot as plt\n",
    "import warnings\n",
    "warnings.filterwarnings(\"ignore\")\n",
    "from sklearn.model_selection import train_test_split\n",
    "from sklearn.metrics import mutual_info_score\n",
    "from sklearn.tree import DecisionTreeClassifier\n",
    "from sklearn.feature_extraction import DictVectorizer"
   ]
  },
  {
   "cell_type": "code",
   "execution_count": 10,
   "id": "9a72c026-a5c5-4db5-8fa6-fe184de4adcf",
   "metadata": {},
   "outputs": [],
   "source": [
    "data  = pd.read_csv(\"Cleaned_Consumer_Complaints.csv\")\n",
    "df = data.copy()"
   ]
  },
  {
   "cell_type": "code",
   "execution_count": 11,
   "id": "1ccba2ae-eeb1-4076-83bc-189d0631173e",
   "metadata": {},
   "outputs": [
    {
     "name": "stdout",
     "output_type": "stream",
     "text": [
      "<class 'pandas.core.frame.DataFrame'>\n",
      "RangeIndex: 593746 entries, 0 to 593745\n",
      "Data columns (total 11 columns):\n",
      " #   Column                        Non-Null Count   Dtype \n",
      "---  ------                        --------------   ----- \n",
      " 0   Product                       593746 non-null  object\n",
      " 1   Issue                         593746 non-null  object\n",
      " 2   Company                       593746 non-null  object\n",
      " 3   State                         593746 non-null  object\n",
      " 4   ZIP_code                      593746 non-null  object\n",
      " 5   Consumer_consent_provided?    593746 non-null  object\n",
      " 6   Submitted_via                 593746 non-null  object\n",
      " 7   Date_sent_to_company          593746 non-null  object\n",
      " 8   Company_response_to_consumer  593746 non-null  object\n",
      " 9   Timely_response?              593746 non-null  object\n",
      " 10  Consumer_disputed?            593746 non-null  object\n",
      "dtypes: object(11)\n",
      "memory usage: 49.8+ MB\n"
     ]
    }
   ],
   "source": [
    "df.info()"
   ]
  },
  {
   "cell_type": "code",
   "execution_count": 12,
   "id": "f070fe0d-9181-4acb-8b0d-e4f56d8a76f0",
   "metadata": {},
   "outputs": [
    {
     "data": {
      "text/html": [
       "<div>\n",
       "<style scoped>\n",
       "    .dataframe tbody tr th:only-of-type {\n",
       "        vertical-align: middle;\n",
       "    }\n",
       "\n",
       "    .dataframe tbody tr th {\n",
       "        vertical-align: top;\n",
       "    }\n",
       "\n",
       "    .dataframe thead th {\n",
       "        text-align: right;\n",
       "    }\n",
       "</style>\n",
       "<table border=\"1\" class=\"dataframe\">\n",
       "  <thead>\n",
       "    <tr style=\"text-align: right;\">\n",
       "      <th></th>\n",
       "      <th>Product</th>\n",
       "      <th>Issue</th>\n",
       "      <th>Company</th>\n",
       "      <th>State</th>\n",
       "      <th>ZIP_code</th>\n",
       "      <th>Consumer_consent_provided?</th>\n",
       "      <th>Submitted_via</th>\n",
       "      <th>Date_sent_to_company</th>\n",
       "      <th>Company_response_to_consumer</th>\n",
       "      <th>Timely_response?</th>\n",
       "      <th>Consumer_disputed?</th>\n",
       "    </tr>\n",
       "  </thead>\n",
       "  <tbody>\n",
       "    <tr>\n",
       "      <th>0</th>\n",
       "      <td>Credit reporting</td>\n",
       "      <td>Incorrect information on credit report</td>\n",
       "      <td>EXPERIAN DELAWARE GP</td>\n",
       "      <td>TX</td>\n",
       "      <td>77075</td>\n",
       "      <td>Consent provided</td>\n",
       "      <td>Phone</td>\n",
       "      <td>03/21/2017</td>\n",
       "      <td>Closed with non-monetary relief</td>\n",
       "      <td>Yes</td>\n",
       "      <td>No</td>\n",
       "    </tr>\n",
       "    <tr>\n",
       "      <th>1</th>\n",
       "      <td>Debt collection</td>\n",
       "      <td>Disclosure verification of debt</td>\n",
       "      <td>Security Credit Services, LLC</td>\n",
       "      <td>IL</td>\n",
       "      <td>60643</td>\n",
       "      <td>Consent provided</td>\n",
       "      <td>Web</td>\n",
       "      <td>04/20/2017</td>\n",
       "      <td>Closed with explanation</td>\n",
       "      <td>Yes</td>\n",
       "      <td>No</td>\n",
       "    </tr>\n",
       "    <tr>\n",
       "      <th>2</th>\n",
       "      <td>Credit card</td>\n",
       "      <td>Other</td>\n",
       "      <td>CITIBANK, N.A.</td>\n",
       "      <td>IL</td>\n",
       "      <td>62025</td>\n",
       "      <td>Consent provided</td>\n",
       "      <td>Referral</td>\n",
       "      <td>04/20/2017</td>\n",
       "      <td>Closed with explanation</td>\n",
       "      <td>Yes</td>\n",
       "      <td>No</td>\n",
       "    </tr>\n",
       "    <tr>\n",
       "      <th>3</th>\n",
       "      <td>Mortgage</td>\n",
       "      <td>Loan modification,collection,foreclosure</td>\n",
       "      <td>Shellpoint Partners, LLC</td>\n",
       "      <td>CA</td>\n",
       "      <td>90305</td>\n",
       "      <td>Consent provided</td>\n",
       "      <td>Referral</td>\n",
       "      <td>04/14/2017</td>\n",
       "      <td>Closed with explanation</td>\n",
       "      <td>Yes</td>\n",
       "      <td>No</td>\n",
       "    </tr>\n",
       "    <tr>\n",
       "      <th>4</th>\n",
       "      <td>Credit card</td>\n",
       "      <td>Credit determination</td>\n",
       "      <td>U.S. BANCORP</td>\n",
       "      <td>LA</td>\n",
       "      <td>70571</td>\n",
       "      <td>Consent provided</td>\n",
       "      <td>Postal mail</td>\n",
       "      <td>04/21/2017</td>\n",
       "      <td>Closed with explanation</td>\n",
       "      <td>Yes</td>\n",
       "      <td>No</td>\n",
       "    </tr>\n",
       "  </tbody>\n",
       "</table>\n",
       "</div>"
      ],
      "text/plain": [
       "            Product                                     Issue  \\\n",
       "0  Credit reporting    Incorrect information on credit report   \n",
       "1   Debt collection           Disclosure verification of debt   \n",
       "2       Credit card                                     Other   \n",
       "3          Mortgage  Loan modification,collection,foreclosure   \n",
       "4       Credit card                      Credit determination   \n",
       "\n",
       "                         Company State ZIP_code Consumer_consent_provided?  \\\n",
       "0           EXPERIAN DELAWARE GP    TX    77075           Consent provided   \n",
       "1  Security Credit Services, LLC    IL    60643           Consent provided   \n",
       "2                 CITIBANK, N.A.    IL    62025           Consent provided   \n",
       "3       Shellpoint Partners, LLC    CA    90305           Consent provided   \n",
       "4                   U.S. BANCORP    LA    70571           Consent provided   \n",
       "\n",
       "  Submitted_via Date_sent_to_company     Company_response_to_consumer  \\\n",
       "0         Phone           03/21/2017  Closed with non-monetary relief   \n",
       "1           Web           04/20/2017          Closed with explanation   \n",
       "2      Referral           04/20/2017          Closed with explanation   \n",
       "3      Referral           04/14/2017          Closed with explanation   \n",
       "4   Postal mail           04/21/2017          Closed with explanation   \n",
       "\n",
       "  Timely_response? Consumer_disputed?  \n",
       "0              Yes                 No  \n",
       "1              Yes                 No  \n",
       "2              Yes                 No  \n",
       "3              Yes                 No  \n",
       "4              Yes                 No  "
      ]
     },
     "execution_count": 12,
     "metadata": {},
     "output_type": "execute_result"
    }
   ],
   "source": [
    "df.head()"
   ]
  },
  {
   "cell_type": "markdown",
   "id": "1fb4f6ab-d1b2-4a61-afa2-d2da8a950347",
   "metadata": {
    "tags": []
   },
   "source": [
    "### Data Preparation "
   ]
  },
  {
   "cell_type": "code",
   "execution_count": 13,
   "id": "109e3ab4-4e18-4b9c-9837-0afd6a645fda",
   "metadata": {},
   "outputs": [],
   "source": [
    "#encoding \n",
    "df['Consumer_disputed?'] = df['Consumer_disputed?'].replace({\"Yes\": 1, \"No\": 0})\n",
    "df['Timely_response?'] = df['Timely_response?'].replace({\"Yes\": 1, \"No\": 0})\n",
    "\n",
    "#dropping columns \n",
    "df.drop(columns=[\"ZIP_code\", \"Date_sent_to_company\"], inplace=True)"
   ]
  },
  {
   "cell_type": "code",
   "execution_count": 18,
   "id": "a5850900-578c-4518-b453-f0aea093ece8",
   "metadata": {},
   "outputs": [],
   "source": [
    "from IPython.display import display"
   ]
  },
  {
   "cell_type": "code",
   "execution_count": 21,
   "id": "8253fd99-e82d-4c70-9580-c84c3f44b0ae",
   "metadata": {},
   "outputs": [
    {
     "data": {
      "text/html": [
       "<div>\n",
       "<style scoped>\n",
       "    .dataframe tbody tr th:only-of-type {\n",
       "        vertical-align: middle;\n",
       "    }\n",
       "\n",
       "    .dataframe tbody tr th {\n",
       "        vertical-align: top;\n",
       "    }\n",
       "\n",
       "    .dataframe thead th {\n",
       "        text-align: right;\n",
       "    }\n",
       "</style>\n",
       "<table border=\"1\" class=\"dataframe\">\n",
       "  <thead>\n",
       "    <tr style=\"text-align: right;\">\n",
       "      <th></th>\n",
       "      <th>Product</th>\n",
       "      <th>Issue</th>\n",
       "      <th>Company</th>\n",
       "      <th>State</th>\n",
       "      <th>Consumer_consent_provided?</th>\n",
       "      <th>Submitted_via</th>\n",
       "      <th>Company_response_to_consumer</th>\n",
       "      <th>Timely_response?</th>\n",
       "      <th>Consumer_disputed?</th>\n",
       "    </tr>\n",
       "  </thead>\n",
       "  <tbody>\n",
       "    <tr>\n",
       "      <th>0</th>\n",
       "      <td>Credit reporting</td>\n",
       "      <td>Incorrect information on credit report</td>\n",
       "      <td>EXPERIAN DELAWARE GP</td>\n",
       "      <td>TX</td>\n",
       "      <td>Consent provided</td>\n",
       "      <td>Phone</td>\n",
       "      <td>Closed with non-monetary relief</td>\n",
       "      <td>1</td>\n",
       "      <td>0</td>\n",
       "    </tr>\n",
       "    <tr>\n",
       "      <th>1</th>\n",
       "      <td>Debt collection</td>\n",
       "      <td>Disclosure verification of debt</td>\n",
       "      <td>Security Credit Services, LLC</td>\n",
       "      <td>IL</td>\n",
       "      <td>Consent provided</td>\n",
       "      <td>Web</td>\n",
       "      <td>Closed with explanation</td>\n",
       "      <td>1</td>\n",
       "      <td>0</td>\n",
       "    </tr>\n",
       "    <tr>\n",
       "      <th>2</th>\n",
       "      <td>Credit card</td>\n",
       "      <td>Other</td>\n",
       "      <td>CITIBANK, N.A.</td>\n",
       "      <td>IL</td>\n",
       "      <td>Consent provided</td>\n",
       "      <td>Referral</td>\n",
       "      <td>Closed with explanation</td>\n",
       "      <td>1</td>\n",
       "      <td>0</td>\n",
       "    </tr>\n",
       "    <tr>\n",
       "      <th>3</th>\n",
       "      <td>Mortgage</td>\n",
       "      <td>Loan modification,collection,foreclosure</td>\n",
       "      <td>Shellpoint Partners, LLC</td>\n",
       "      <td>CA</td>\n",
       "      <td>Consent provided</td>\n",
       "      <td>Referral</td>\n",
       "      <td>Closed with explanation</td>\n",
       "      <td>1</td>\n",
       "      <td>0</td>\n",
       "    </tr>\n",
       "    <tr>\n",
       "      <th>4</th>\n",
       "      <td>Credit card</td>\n",
       "      <td>Credit determination</td>\n",
       "      <td>U.S. BANCORP</td>\n",
       "      <td>LA</td>\n",
       "      <td>Consent provided</td>\n",
       "      <td>Postal mail</td>\n",
       "      <td>Closed with explanation</td>\n",
       "      <td>1</td>\n",
       "      <td>0</td>\n",
       "    </tr>\n",
       "  </tbody>\n",
       "</table>\n",
       "</div>"
      ],
      "text/plain": [
       "            Product                                     Issue  \\\n",
       "0  Credit reporting    Incorrect information on credit report   \n",
       "1   Debt collection           Disclosure verification of debt   \n",
       "2       Credit card                                     Other   \n",
       "3          Mortgage  Loan modification,collection,foreclosure   \n",
       "4       Credit card                      Credit determination   \n",
       "\n",
       "                         Company State Consumer_consent_provided?  \\\n",
       "0           EXPERIAN DELAWARE GP    TX           Consent provided   \n",
       "1  Security Credit Services, LLC    IL           Consent provided   \n",
       "2                 CITIBANK, N.A.    IL           Consent provided   \n",
       "3       Shellpoint Partners, LLC    CA           Consent provided   \n",
       "4                   U.S. BANCORP    LA           Consent provided   \n",
       "\n",
       "  Submitted_via     Company_response_to_consumer  Timely_response?  \\\n",
       "0         Phone  Closed with non-monetary relief                 1   \n",
       "1           Web          Closed with explanation                 1   \n",
       "2      Referral          Closed with explanation                 1   \n",
       "3      Referral          Closed with explanation                 1   \n",
       "4   Postal mail          Closed with explanation                 1   \n",
       "\n",
       "   Consumer_disputed?  \n",
       "0                   0  \n",
       "1                   0  \n",
       "2                   0  \n",
       "3                   0  \n",
       "4                   0  "
      ]
     },
     "execution_count": 21,
     "metadata": {},
     "output_type": "execute_result"
    }
   ],
   "source": [
    "df.head()"
   ]
  },
  {
   "cell_type": "code",
   "execution_count": 26,
   "id": "68e56d9b-7cec-49cc-afac-10f41cc2808b",
   "metadata": {},
   "outputs": [],
   "source": [
    "# df_credit = df[df['Product'] == \"Credit reporting\"]\n",
    "# df_credit['Consumer_consent_provided?'].value_counts()"
   ]
  },
  {
   "cell_type": "code",
   "execution_count": 70,
   "id": "5141d6cf-dfc1-4ff1-a331-ef4d82b66deb",
   "metadata": {},
   "outputs": [],
   "source": [
    "#Splitting the data\n",
    "df_full_train, df_test = train_test_split(df, test_size=0.2, random_state=42)\n",
    "df_train, df_val = train_test_split(df_full_train, test_size=0.25, random_state=42)\n",
    "\n",
    "y_full_train = df_full_train['Consumer_disputed?'].values\n",
    "y_train = df_train['Consumer_disputed?'].values\n",
    "y_val = df_val['Consumer_disputed?'].values\n",
    "y_test = df_test['Consumer_disputed?'].values\n",
    "\n",
    "del df_full_train['Consumer_disputed?']\n",
    "del df_train['Consumer_disputed?']\n",
    "del df_val['Consumer_disputed?']\n",
    "del df_test['Consumer_disputed?']"
   ]
  },
  {
   "cell_type": "code",
   "execution_count": 77,
   "id": "d6cfc2f5-b20f-49c5-8a9d-9b98a842cad4",
   "metadata": {},
   "outputs": [],
   "source": [
    "train_dict = df_train.to_dict(orient=\"records\")\n",
    "dv = DictVectorizer()\n",
    "X_train = dv.fit_transform(train_dict)\n"
   ]
  },
  {
   "cell_type": "code",
   "execution_count": 81,
   "id": "1a6c2c0e-c4db-4484-9a18-27bdd9db6f6b",
   "metadata": {},
   "outputs": [
    {
     "data": {
      "text/plain": [
       "<1x3524 sparse matrix of type '<class 'numpy.float64'>'\n",
       "\twith 8 stored elements in Compressed Sparse Row format>"
      ]
     },
     "execution_count": 81,
     "metadata": {},
     "output_type": "execute_result"
    }
   ],
   "source": [
    "X_train[0]"
   ]
  },
  {
   "cell_type": "code",
   "execution_count": null,
   "id": "f9dbfe98-d565-433d-b0b9-bbfa58e4ced5",
   "metadata": {},
   "outputs": [],
   "source": []
  }
 ],
 "metadata": {
  "kernelspec": {
   "display_name": "Python 3 (ipykernel)",
   "language": "python",
   "name": "python3"
  },
  "language_info": {
   "codemirror_mode": {
    "name": "ipython",
    "version": 3
   },
   "file_extension": ".py",
   "mimetype": "text/x-python",
   "name": "python",
   "nbconvert_exporter": "python",
   "pygments_lexer": "ipython3",
   "version": "3.9.7"
  }
 },
 "nbformat": 4,
 "nbformat_minor": 5
}
