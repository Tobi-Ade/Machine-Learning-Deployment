{
 "cells": [
  {
   "cell_type": "markdown",
   "metadata": {},
   "source": [
    "## Consumer Complaints Notebook\n",
    "### This notebook is created to analyze and gain insights from customer complaints and improve the business model "
   ]
  },
  {
   "cell_type": "code",
   "execution_count": 1,
   "metadata": {},
   "outputs": [],
   "source": [
    "\"\"\"\n",
    "importing necessary libraries\n",
    "\"\"\"\n",
    "import pandas as pd\n",
    "import matplotlib.pyplot as plt\n",
    "import seaborn as sns\n",
    "import warnings\n",
    "warnings.filterwarnings('ignore')"
   ]
  },
  {
   "cell_type": "code",
   "execution_count": 2,
   "metadata": {},
   "outputs": [
    {
     "data": {
      "text/html": [
       "<div>\n",
       "<style scoped>\n",
       "    .dataframe tbody tr th:only-of-type {\n",
       "        vertical-align: middle;\n",
       "    }\n",
       "\n",
       "    .dataframe tbody tr th {\n",
       "        vertical-align: top;\n",
       "    }\n",
       "\n",
       "    .dataframe thead th {\n",
       "        text-align: right;\n",
       "    }\n",
       "</style>\n",
       "<table border=\"1\" class=\"dataframe\">\n",
       "  <thead>\n",
       "    <tr style=\"text-align: right;\">\n",
       "      <th></th>\n",
       "      <th>Date received</th>\n",
       "      <th>Product</th>\n",
       "      <th>Sub-product</th>\n",
       "      <th>Issue</th>\n",
       "      <th>Sub-issue</th>\n",
       "      <th>Consumer complaint narrative</th>\n",
       "      <th>Company public response</th>\n",
       "      <th>Company</th>\n",
       "      <th>State</th>\n",
       "      <th>ZIP code</th>\n",
       "      <th>Tags</th>\n",
       "      <th>Consumer consent provided?</th>\n",
       "      <th>Submitted via</th>\n",
       "      <th>Date sent to company</th>\n",
       "      <th>Company response to consumer</th>\n",
       "      <th>Timely response?</th>\n",
       "      <th>Consumer disputed?</th>\n",
       "      <th>Complaint ID</th>\n",
       "    </tr>\n",
       "  </thead>\n",
       "  <tbody>\n",
       "    <tr>\n",
       "      <th>0</th>\n",
       "      <td>03/21/2017</td>\n",
       "      <td>Credit reporting</td>\n",
       "      <td>NaN</td>\n",
       "      <td>Incorrect information on credit report</td>\n",
       "      <td>Information is not mine</td>\n",
       "      <td>NaN</td>\n",
       "      <td>Company has responded to the consumer and the ...</td>\n",
       "      <td>EXPERIAN DELAWARE GP</td>\n",
       "      <td>TX</td>\n",
       "      <td>77075</td>\n",
       "      <td>Older American</td>\n",
       "      <td>NaN</td>\n",
       "      <td>Phone</td>\n",
       "      <td>03/21/2017</td>\n",
       "      <td>Closed with non-monetary relief</td>\n",
       "      <td>Yes</td>\n",
       "      <td>No</td>\n",
       "      <td>2397100</td>\n",
       "    </tr>\n",
       "    <tr>\n",
       "      <th>1</th>\n",
       "      <td>04/19/2017</td>\n",
       "      <td>Debt collection</td>\n",
       "      <td>Other (i.e. phone, health club, etc.)</td>\n",
       "      <td>Disclosure verification of debt</td>\n",
       "      <td>Not disclosed as an attempt to collect</td>\n",
       "      <td>NaN</td>\n",
       "      <td>NaN</td>\n",
       "      <td>Security Credit Services, LLC</td>\n",
       "      <td>IL</td>\n",
       "      <td>60643</td>\n",
       "      <td>NaN</td>\n",
       "      <td>NaN</td>\n",
       "      <td>Web</td>\n",
       "      <td>04/20/2017</td>\n",
       "      <td>Closed with explanation</td>\n",
       "      <td>Yes</td>\n",
       "      <td>No</td>\n",
       "      <td>2441777</td>\n",
       "    </tr>\n",
       "    <tr>\n",
       "      <th>2</th>\n",
       "      <td>04/19/2017</td>\n",
       "      <td>Credit card</td>\n",
       "      <td>NaN</td>\n",
       "      <td>Other</td>\n",
       "      <td>NaN</td>\n",
       "      <td>NaN</td>\n",
       "      <td>Company has responded to the consumer and the ...</td>\n",
       "      <td>CITIBANK, N.A.</td>\n",
       "      <td>IL</td>\n",
       "      <td>62025</td>\n",
       "      <td>NaN</td>\n",
       "      <td>NaN</td>\n",
       "      <td>Referral</td>\n",
       "      <td>04/20/2017</td>\n",
       "      <td>Closed with explanation</td>\n",
       "      <td>Yes</td>\n",
       "      <td>No</td>\n",
       "      <td>2441830</td>\n",
       "    </tr>\n",
       "    <tr>\n",
       "      <th>3</th>\n",
       "      <td>04/14/2017</td>\n",
       "      <td>Mortgage</td>\n",
       "      <td>Other mortgage</td>\n",
       "      <td>Loan modification,collection,foreclosure</td>\n",
       "      <td>NaN</td>\n",
       "      <td>NaN</td>\n",
       "      <td>Company believes it acted appropriately as aut...</td>\n",
       "      <td>Shellpoint Partners, LLC</td>\n",
       "      <td>CA</td>\n",
       "      <td>90305</td>\n",
       "      <td>NaN</td>\n",
       "      <td>NaN</td>\n",
       "      <td>Referral</td>\n",
       "      <td>04/14/2017</td>\n",
       "      <td>Closed with explanation</td>\n",
       "      <td>Yes</td>\n",
       "      <td>No</td>\n",
       "      <td>2436165</td>\n",
       "    </tr>\n",
       "    <tr>\n",
       "      <th>4</th>\n",
       "      <td>04/19/2017</td>\n",
       "      <td>Credit card</td>\n",
       "      <td>NaN</td>\n",
       "      <td>Credit determination</td>\n",
       "      <td>NaN</td>\n",
       "      <td>NaN</td>\n",
       "      <td>Company has responded to the consumer and the ...</td>\n",
       "      <td>U.S. BANCORP</td>\n",
       "      <td>LA</td>\n",
       "      <td>70571</td>\n",
       "      <td>NaN</td>\n",
       "      <td>NaN</td>\n",
       "      <td>Postal mail</td>\n",
       "      <td>04/21/2017</td>\n",
       "      <td>Closed with explanation</td>\n",
       "      <td>Yes</td>\n",
       "      <td>No</td>\n",
       "      <td>2441726</td>\n",
       "    </tr>\n",
       "  </tbody>\n",
       "</table>\n",
       "</div>"
      ],
      "text/plain": [
       "  Date received           Product                            Sub-product  \\\n",
       "0    03/21/2017  Credit reporting                                    NaN   \n",
       "1    04/19/2017   Debt collection  Other (i.e. phone, health club, etc.)   \n",
       "2    04/19/2017       Credit card                                    NaN   \n",
       "3    04/14/2017          Mortgage                         Other mortgage   \n",
       "4    04/19/2017       Credit card                                    NaN   \n",
       "\n",
       "                                      Issue  \\\n",
       "0    Incorrect information on credit report   \n",
       "1           Disclosure verification of debt   \n",
       "2                                     Other   \n",
       "3  Loan modification,collection,foreclosure   \n",
       "4                      Credit determination   \n",
       "\n",
       "                                Sub-issue Consumer complaint narrative  \\\n",
       "0                 Information is not mine                          NaN   \n",
       "1  Not disclosed as an attempt to collect                          NaN   \n",
       "2                                     NaN                          NaN   \n",
       "3                                     NaN                          NaN   \n",
       "4                                     NaN                          NaN   \n",
       "\n",
       "                             Company public response  \\\n",
       "0  Company has responded to the consumer and the ...   \n",
       "1                                                NaN   \n",
       "2  Company has responded to the consumer and the ...   \n",
       "3  Company believes it acted appropriately as aut...   \n",
       "4  Company has responded to the consumer and the ...   \n",
       "\n",
       "                         Company State ZIP code            Tags  \\\n",
       "0           EXPERIAN DELAWARE GP    TX    77075  Older American   \n",
       "1  Security Credit Services, LLC    IL    60643             NaN   \n",
       "2                 CITIBANK, N.A.    IL    62025             NaN   \n",
       "3       Shellpoint Partners, LLC    CA    90305             NaN   \n",
       "4                   U.S. BANCORP    LA    70571             NaN   \n",
       "\n",
       "  Consumer consent provided? Submitted via Date sent to company  \\\n",
       "0                        NaN         Phone           03/21/2017   \n",
       "1                        NaN           Web           04/20/2017   \n",
       "2                        NaN      Referral           04/20/2017   \n",
       "3                        NaN      Referral           04/14/2017   \n",
       "4                        NaN   Postal mail           04/21/2017   \n",
       "\n",
       "      Company response to consumer Timely response? Consumer disputed?  \\\n",
       "0  Closed with non-monetary relief              Yes                 No   \n",
       "1          Closed with explanation              Yes                 No   \n",
       "2          Closed with explanation              Yes                 No   \n",
       "3          Closed with explanation              Yes                 No   \n",
       "4          Closed with explanation              Yes                 No   \n",
       "\n",
       "   Complaint ID  \n",
       "0       2397100  \n",
       "1       2441777  \n",
       "2       2441830  \n",
       "3       2436165  \n",
       "4       2441726  "
      ]
     },
     "execution_count": 2,
     "metadata": {},
     "output_type": "execute_result"
    }
   ],
   "source": [
    "\"\"\"\n",
    "reading the data\n",
    "\"\"\"\n",
    "data = pd.read_csv('Consumer_Complaints.csv')\n",
    "data.head()"
   ]
  },
  {
   "cell_type": "code",
   "execution_count": 3,
   "metadata": {},
   "outputs": [
    {
     "data": {
      "text/plain": [
       "['Date received',\n",
       " 'Product',\n",
       " 'Sub-product',\n",
       " 'Issue',\n",
       " 'Sub-issue',\n",
       " 'Consumer complaint narrative',\n",
       " 'Company public response',\n",
       " 'Company',\n",
       " 'State',\n",
       " 'ZIP code',\n",
       " 'Tags',\n",
       " 'Consumer consent provided?',\n",
       " 'Submitted via',\n",
       " 'Date sent to company',\n",
       " 'Company response to consumer',\n",
       " 'Timely response?',\n",
       " 'Consumer disputed?',\n",
       " 'Complaint ID']"
      ]
     },
     "execution_count": 3,
     "metadata": {},
     "output_type": "execute_result"
    }
   ],
   "source": [
    "# get all the columns in the data \n",
    "cols = data.columns.tolist()\n",
    "cols"
   ]
  },
  {
   "cell_type": "code",
   "execution_count": 4,
   "metadata": {},
   "outputs": [
    {
     "data": {
      "text/plain": [
       "Mortgage                                                                        228167\n",
       "Debt collection                                                                 148016\n",
       "Credit reporting                                                                140405\n",
       "Credit card                                                                      89189\n",
       "Bank account or service                                                          86206\n",
       "Student loan                                                                     33044\n",
       "Consumer Loan                                                                    31591\n",
       "Payday loan                                                                       5543\n",
       "Money transfers                                                                   5355\n",
       "Prepaid card                                                                      3817\n",
       "Credit reporting, credit repair services, or other personal consumer reports      3490\n",
       "Other financial service                                                           1051\n",
       "Credit card or prepaid card                                                        919\n",
       "Checking or savings account                                                        664\n",
       "Vehicle loan or lease                                                              221\n",
       "Payday loan, title loan, or personal loan                                          140\n",
       "Money transfer, virtual currency, or money service                                 123\n",
       "Virtual currency                                                                    18\n",
       "Name: Product, dtype: int64"
      ]
     },
     "execution_count": 4,
     "metadata": {},
     "output_type": "execute_result"
    }
   ],
   "source": [
    "data['Product'].value_counts()"
   ]
  },
  {
   "cell_type": "markdown",
   "metadata": {},
   "source": [
    "#### Data Analysis \n",
    "\n",
    "Presenting the data for deep cleaning. Below are the steps we are going to take to carry an in-depth data cleansing.\n",
    "- Data Cleaning/Quality Check\n",
    "- Data Transformation\n",
    "- Data \n",
    "- Data Modelling"
   ]
  },
  {
   "cell_type": "code",
   "execution_count": 5,
   "metadata": {},
   "outputs": [],
   "source": [
    "#creating a copy of the data for analysis \n",
    "df = data.copy()"
   ]
  },
  {
   "cell_type": "code",
   "execution_count": 6,
   "metadata": {},
   "outputs": [
    {
     "name": "stdout",
     "output_type": "stream",
     "text": [
      "<class 'pandas.core.frame.DataFrame'>\n",
      "RangeIndex: 777959 entries, 0 to 777958\n",
      "Data columns (total 18 columns):\n",
      " #   Column                        Non-Null Count   Dtype \n",
      "---  ------                        --------------   ----- \n",
      " 0   Date received                 777959 non-null  object\n",
      " 1   Product                       777959 non-null  object\n",
      " 2   Sub-product                   542822 non-null  object\n",
      " 3   Issue                         777959 non-null  object\n",
      " 4   Sub-issue                     320986 non-null  object\n",
      " 5   Consumer complaint narrative  157865 non-null  object\n",
      " 6   Company public response       197884 non-null  object\n",
      " 7   Company                       777959 non-null  object\n",
      " 8   State                         772056 non-null  object\n",
      " 9   ZIP code                      772001 non-null  object\n",
      " 10  Tags                          109264 non-null  object\n",
      " 11  Consumer consent provided?    288311 non-null  object\n",
      " 12  Submitted via                 777959 non-null  object\n",
      " 13  Date sent to company          777959 non-null  object\n",
      " 14  Company response to consumer  777959 non-null  object\n",
      " 15  Timely response?              777959 non-null  object\n",
      " 16  Consumer disputed?            768414 non-null  object\n",
      " 17  Complaint ID                  777959 non-null  int64 \n",
      "dtypes: int64(1), object(17)\n",
      "memory usage: 106.8+ MB\n"
     ]
    }
   ],
   "source": [
    "# check for the information of the dataset\n",
    "df.info()"
   ]
  },
  {
   "cell_type": "markdown",
   "metadata": {},
   "source": [
    "From the table shown above, we can deduce that 98% of our dataset are catergorical variables. Complaint ID happens to be only numerical variable. <br>\n",
    "Also we can see that some of the columns have missing data "
   ]
  },
  {
   "cell_type": "code",
   "execution_count": 7,
   "metadata": {},
   "outputs": [
    {
     "name": "stdout",
     "output_type": "stream",
     "text": [
      "The total records in our dataset is 777959\n"
     ]
    }
   ],
   "source": [
    "# calculate the total records in the data \n",
    "total_data_length = len(df)\n",
    "print(f'The total records in our dataset is {total_data_length}')"
   ]
  },
  {
   "cell_type": "code",
   "execution_count": 8,
   "metadata": {},
   "outputs": [],
   "source": [
    "def missing_data_percent(df):\n",
    "    \"\"\"\n",
    "    This function takes in a dataframe and returns the sum and percentage of missing data in all the dataframe columns\n",
    "    :params: pandas dataframe \n",
    "    :return: sum and percentage of missing data in all columns \n",
    "    :rtype: dataframe object     \n",
    "    \"\"\"\n",
    "    missing_cols = []\n",
    "    for col in df.columns:\n",
    "        if df[col].isnull().sum() > 0:\n",
    "            missing_cols.append(col)\n",
    "            \n",
    "    missing_total = df[missing_cols].isnull().sum()\n",
    "    len_data = len(df)\n",
    "    missing_percent = round((missing_total/len_data)*100, 3)\n",
    "    missing_data = pd.concat([missing_total, missing_percent], axis=1, keys = ['Total Missing Data', '% Missing Data'])\n",
    "    return missing_data.T"
   ]
  },
  {
   "cell_type": "code",
   "execution_count": 9,
   "metadata": {},
   "outputs": [
    {
     "data": {
      "text/html": [
       "<div>\n",
       "<style scoped>\n",
       "    .dataframe tbody tr th:only-of-type {\n",
       "        vertical-align: middle;\n",
       "    }\n",
       "\n",
       "    .dataframe tbody tr th {\n",
       "        vertical-align: top;\n",
       "    }\n",
       "\n",
       "    .dataframe thead th {\n",
       "        text-align: right;\n",
       "    }\n",
       "</style>\n",
       "<table border=\"1\" class=\"dataframe\">\n",
       "  <thead>\n",
       "    <tr style=\"text-align: right;\">\n",
       "      <th></th>\n",
       "      <th>Sub-product</th>\n",
       "      <th>Sub-issue</th>\n",
       "      <th>Consumer complaint narrative</th>\n",
       "      <th>Company public response</th>\n",
       "      <th>State</th>\n",
       "      <th>ZIP code</th>\n",
       "      <th>Tags</th>\n",
       "      <th>Consumer consent provided?</th>\n",
       "      <th>Consumer disputed?</th>\n",
       "    </tr>\n",
       "  </thead>\n",
       "  <tbody>\n",
       "    <tr>\n",
       "      <th>Total Missing Data</th>\n",
       "      <td>235137.000</td>\n",
       "      <td>456973.00</td>\n",
       "      <td>620094.000</td>\n",
       "      <td>580075.000</td>\n",
       "      <td>5903.000</td>\n",
       "      <td>5958.000</td>\n",
       "      <td>668695.000</td>\n",
       "      <td>489648.00</td>\n",
       "      <td>9545.000</td>\n",
       "    </tr>\n",
       "    <tr>\n",
       "      <th>% Missing Data</th>\n",
       "      <td>30.225</td>\n",
       "      <td>58.74</td>\n",
       "      <td>79.708</td>\n",
       "      <td>74.564</td>\n",
       "      <td>0.759</td>\n",
       "      <td>0.766</td>\n",
       "      <td>85.955</td>\n",
       "      <td>62.94</td>\n",
       "      <td>1.227</td>\n",
       "    </tr>\n",
       "  </tbody>\n",
       "</table>\n",
       "</div>"
      ],
      "text/plain": [
       "                    Sub-product  Sub-issue  Consumer complaint narrative  \\\n",
       "Total Missing Data   235137.000  456973.00                    620094.000   \n",
       "% Missing Data           30.225      58.74                        79.708   \n",
       "\n",
       "                    Company public response     State  ZIP code        Tags  \\\n",
       "Total Missing Data               580075.000  5903.000  5958.000  668695.000   \n",
       "% Missing Data                       74.564     0.759     0.766      85.955   \n",
       "\n",
       "                    Consumer consent provided?  Consumer disputed?  \n",
       "Total Missing Data                   489648.00            9545.000  \n",
       "% Missing Data                           62.94               1.227  "
      ]
     },
     "execution_count": 9,
     "metadata": {},
     "output_type": "execute_result"
    }
   ],
   "source": [
    "missing_data_percent(df)"
   ]
  },
  {
   "cell_type": "markdown",
   "metadata": {},
   "source": [
    "In the table above, we display all the categories that have missing data and how much of the data is missing <br>\n",
    "Now we handle each category one after the other "
   ]
  },
  {
   "cell_type": "markdown",
   "metadata": {},
   "source": [
    "##### Handling Missing Data "
   ]
  },
  {
   "cell_type": "code",
   "execution_count": 10,
   "metadata": {},
   "outputs": [
    {
     "name": "stdout",
     "output_type": "stream",
     "text": [
      "There are 75 unique features in the sub-prodcut column\n",
      "\n",
      "The top 5 frequent columns are:\n"
     ]
    },
    {
     "data": {
      "text/plain": [
       "Other mortgage                           86622\n",
       "Conventional fixed mortgage              70607\n",
       "Checking account                         59539\n",
       "Other (i.e. phone, health club, etc.)    44534\n",
       "I do not know                            30326\n",
       "Name: Sub-product, dtype: int64"
      ]
     },
     "execution_count": 10,
     "metadata": {},
     "output_type": "execute_result"
    }
   ],
   "source": [
    "\"\"\"\n",
    "Handling the sub-product column\n",
    "\"\"\"\n",
    "print(f\"There are {df['Sub-product'].nunique()} unique features in the sub-prodcut column\")\n",
    "print(\"\")\n",
    "print(\"The top 5 frequent columns are:\")\n",
    "\n",
    "df['Sub-product'].value_counts()[:5]\n"
   ]
  },
  {
   "cell_type": "markdown",
   "metadata": {},
   "source": [
    "- From the missing percent table above, we can see that the sub-product column is missing 30 percent of its data. <br>\n",
    "- Also we can deduce that sub-products are from products, therefore we can decide to dop the column and focus on the products column "
   ]
  },
  {
   "cell_type": "code",
   "execution_count": 11,
   "metadata": {},
   "outputs": [
    {
     "name": "stdout",
     "output_type": "stream",
     "text": [
      "There are 193 unique features in the sub-issue column\n",
      "\n",
      "The top 5 frequent columns are:\n"
     ]
    },
    {
     "data": {
      "text/plain": [
       "Account status                          37057\n",
       "Debt is not mine                        36740\n",
       "Information is not mine                 32372\n",
       "Not given enough info to verify debt    21809\n",
       "Debt was paid                           16869\n",
       "Name: Sub-issue, dtype: int64"
      ]
     },
     "execution_count": 11,
     "metadata": {},
     "output_type": "execute_result"
    }
   ],
   "source": [
    "\"\"\"\n",
    "Handling the sub-issue column\n",
    "\"\"\"\n",
    "print(f\"There are {df['Sub-issue'].nunique()} unique features in the sub-issue column\")\n",
    "print(\"\")\n",
    "print(\"The top 5 frequent columns are:\")\n",
    "\n",
    "df['Sub-issue'].value_counts()[:5]"
   ]
  },
  {
   "cell_type": "markdown",
   "metadata": {},
   "source": [
    "- From the missing percent table above, we can see that the sub-issue column is missing 59 percent of its data. <br>\n",
    "- Similarly to the sub-products column,  we can deduce that sub-issues are a breakdown of the \"Issues\" column, <br>\n",
    "    therefore we can decide to dop the column and focus on the Issues column "
   ]
  },
  {
   "cell_type": "code",
   "execution_count": 12,
   "metadata": {},
   "outputs": [
    {
     "data": {
      "text/plain": [
       "'\\nHandling the consumer complaint narrative column \\n'"
      ]
     },
     "execution_count": 12,
     "metadata": {},
     "output_type": "execute_result"
    }
   ],
   "source": [
    "\"\"\"\n",
    "Handling the consumer complaint narrative column \n",
    "\"\"\""
   ]
  },
  {
   "cell_type": "markdown",
   "metadata": {},
   "source": [
    "- From our table above, 80 percent of the consumer complaint narrative is missing <br>\n",
    "- Although it is an important column, however, it is specific to each individual and the missing data cannot be filled <br>\n",
    "- Also, the percentage of missing data is too great for the column to be useful for analysis in this case, therefore we can decide to drop it"
   ]
  },
  {
   "cell_type": "code",
   "execution_count": 13,
   "metadata": {},
   "outputs": [
    {
     "data": {
      "image/png": "[encoded data removed]",
      "text/plain": [
       "<Figure size 864x648 with 1 Axes>"
      ]
     },
     "metadata": {
      "needs_background": "light"
     },
     "output_type": "display_data"
    }
   ],
   "source": [
    "\"\"\"\n",
    "Handling the company public response column \n",
    "\"\"\"\n",
    "\n",
    "plt.figure(figsize=(12,9))\n",
    "ax = sns.countplot(df['Company public response'])\n",
    "ax.set_xticklabels(ax.get_xticklabels(), rotation=45, horizontalalignment='right')\n",
    "ax.set_xlabel(\"\")\n",
    "plt.title(\"Company Response Narrative\")\n",
    "plt.show()"
   ]
  },
  {
   "cell_type": "markdown",
   "metadata": {},
   "source": [
    "- From our table above, 75 percent of the company public response is missing\n",
    "- From the data available, we can deduce that the company mostly declines public responses\n",
    "- The percentage of missing data is too great for the column to be useful for analysis in this case, therefore we can decide to drop it"
   ]
  },
  {
   "cell_type": "code",
   "execution_count": 14,
   "metadata": {
    "tags": []
   },
   "outputs": [],
   "source": [
    "# # check the missing states \n",
    "# missing_states = df['State'].isnull().sum()\n",
    "# # missing_states\n",
    "\n",
    "# # percentage of missing states\n",
    "# percent = 100\n",
    "# missing_states_perc = (missing_states / total_data_length) * percent\n",
    "# print(f'There are {missing_states_perc:.2f}% states missing and it represents a small portion of the data')"
   ]
  },
  {
   "cell_type": "code",
   "execution_count": 15,
   "metadata": {},
   "outputs": [
    {
     "name": "stdout",
     "output_type": "stream",
     "text": [
      "     State\n",
      "PW      12\n",
      "AA      13\n",
      "AS      25\n",
      "MH      30\n",
      "MP      31\n",
      "..     ...\n",
      "GA   36889\n",
      "NY   53161\n",
      "TX   60400\n",
      "FL   74507\n",
      "CA  111765\n",
      "\n",
      "[62 rows x 1 columns]\n"
     ]
    },
    {
     "data": {
      "text/plain": [
       "18"
      ]
     },
     "execution_count": 15,
     "metadata": {},
     "output_type": "execute_result"
    }
   ],
   "source": [
    "\"\"\"\n",
    "Handling the States column\n",
    "\"\"\"\n",
    "# get state count in the data\n",
    "state = df['State'].value_counts()\n",
    "# convert pandas series to dataframe\n",
    "state_df = state.sort_values(ascending=True).to_frame()\n",
    "print(state_df)\n",
    "\n",
    "#creating new data frame of all the missing states\n",
    "missing_states_df = df[df[\"State\"].isnull()==True]\n",
    "\n",
    "#getting ythe non-null zipcodes in the missing states dataframe\n",
    "zip_found = missing_states_df[missing_states_df['ZIP code'].isnull() == False]\n",
    "\n",
    "#getting the number of missing states with valid zip codes\n",
    "len(zip_found[[\"ZIP code\", \"State\"]])"
   ]
  },
  {
   "cell_type": "markdown",
   "metadata": {},
   "source": [
    "- From our missing_percent table above, we can see that less than 1 percent of the States is missing\n",
    "- We check if the zip codes for the missing states are valid so we can use it to fill\n",
    "- However, only 18 out of 5903 rows have valid zip codes\n",
    "- The missing data in this case is little, theerefore we can simply drop columns with missing states"
   ]
  },
  {
   "cell_type": "code",
   "execution_count": 16,
   "metadata": {},
   "outputs": [
    {
     "name": "stdout",
     "output_type": "stream",
     "text": [
      "       ZIP code\n",
      "02584         1\n",
      "35447         1\n",
      "09263         1\n",
      "8/571         1\n",
      "33665         1\n",
      "...         ...\n",
      "331XX      1864\n",
      "606XX      1974\n",
      "770XX      2144\n",
      "750XX      2146\n",
      "300XX      3102\n",
      "\n",
      "[28420 rows x 1 columns]\n",
      "There are only 73 rows  with valid states\n"
     ]
    }
   ],
   "source": [
    "\"\"\"\n",
    "Handling the ZIP codes column\n",
    "\"\"\"\n",
    "# get state count in the data\n",
    "zip_code = df['ZIP code'].value_counts()\n",
    "\n",
    "# convert pandas series to dataframe\n",
    "zip_code_df = zip_code.sort_values(ascending=True).to_frame()\n",
    "\n",
    "print(zip_code_df)\n",
    "\n",
    "#creating new data frame of all the missing zip codes\n",
    "missing_zip_df = df[df[\"ZIP code\"].isnull()==True]\n",
    "\n",
    "#getting ythe non-null zipcodes in the missing states dataframe\n",
    "states_found = missing_zip_df[missing_zip_df['State'].isnull() == False]\n",
    "\n",
    "#getting the number of missing states with valid zip codes\n",
    "len(states_found[['State', 'ZIP code']])\n",
    "print(f\"There are only {len(states_found[['State', 'ZIP code']])} rows  with valid states\")"
   ]
  },
  {
   "cell_type": "markdown",
   "metadata": {},
   "source": [
    "- From our missing_percent table above, we can see that less than 1 percent of the ZIP codes is missing\n",
    "- We check if the states for the missing zip codes are valid in order to use them to fill the missing zip codes\n",
    "- However, only 73 out of 5958 rows have valid states\n",
    "- The missing data in this case is little, theerefore we can simply drop columns with missing zip codes"
   ]
  },
  {
   "cell_type": "code",
   "execution_count": 17,
   "metadata": {},
   "outputs": [
    {
     "data": {
      "image/png": "[encoded data removed]",
      "text/plain": [
       "<Figure size 1080x504 with 2 Axes>"
      ]
     },
     "metadata": {
      "needs_background": "light"
     },
     "output_type": "display_data"
    }
   ],
   "source": [
    "\"\"\"\n",
    "Handling the Tags column\n",
    "\"\"\"\n",
    "plt.figure(figsize=(15,7))\n",
    "\n",
    "#Checking the distribution of the Tags\n",
    "plt.subplot(1,2,1)\n",
    "sns.countplot(df['Tags'])\n",
    "\n",
    "plt.subplot(1,2,2)\n",
    "#Checking the distribution of the Tags by method of submission of complaints\n",
    "sns.countplot(df['Tags'],  hue=df['Submitted via'])\n",
    "\n",
    "plt.tight_layout()"
   ]
  },
  {
   "cell_type": "markdown",
   "metadata": {},
   "source": [
    "- From the plots above, we can see that thd Tags column contains either Older Americans, Service members, or both \n",
    "- We can also tell that a very high frequency of people used the web to submit their complaints, with a significant number using their phones\n",
    "- However, from our missing_percent table, we can see that 85 percent of the Tags column is missing\n",
    "- The missing data in this case is therefore too great, and cannot be used effectively, so we drop it\n"
   ]
  },
  {
   "cell_type": "code",
   "execution_count": 18,
   "metadata": {},
   "outputs": [
    {
     "data": {
      "image/png": "[encoded data removed]",
      "text/plain": [
       "<Figure size 1080x504 with 1 Axes>"
      ]
     },
     "metadata": {
      "needs_background": "light"
     },
     "output_type": "display_data"
    },
    {
     "data": {
      "text/plain": [
       "Consent provided        157865\n",
       "Consent not provided    121988\n",
       "Other                     8413\n",
       "Consent withdrawn           45\n",
       "Name: Consumer consent provided?, dtype: int64"
      ]
     },
     "execution_count": 18,
     "metadata": {},
     "output_type": "execute_result"
    }
   ],
   "source": [
    "\"\"\"\n",
    "Handling the Consumer consent provided? column\n",
    "\"\"\"\n",
    "plt.figure(figsize=(15,7))\n",
    "labels = list(df['Product'].unique())\n",
    "ax = sns.countplot(df['Product'], hue=df['Consumer consent provided?'])\n",
    "ax.set_xticklabels(ax.get_xticklabels(), rotation=45, horizontalalignment='right')\n",
    "sns.move_legend(ax, loc=\"upper right\")\n",
    "plt.show()\n",
    "\n",
    "df['Consumer consent provided?'].value_counts()\n",
    "#  bbox_to_anchor=(.55, .45)"
   ]
  },
  {
   "cell_type": "markdown",
   "metadata": {},
   "source": [
    "- From our missing_percent table, we can see that 62 percent Consumer consent provided of the  column is missing\n",
    "- From our analysis, Consent Provided and Consent not provided are the two most frequent occurrences \n",
    "- Therefore to acheive a similar ratio to what is already in the dataset, we use the forward fill method,\n",
    "- This ensures that we still have  Consent Provided and Consent not provided as the most frequent occurrences "
   ]
  },
  {
   "cell_type": "code",
   "execution_count": 19,
   "metadata": {},
   "outputs": [],
   "source": [
    "# labels = list(df['Product'].unique())\n",
    "# plt.figure(figsize=(15,12))\n",
    "# ax = sns.countplot(df['Product'], hue=df['Consumer consent provided?'])\n",
    "# ax.set_xticklabels(ax.get_xticklabels(), rotation=45, horizontalalignment='right')\n",
    "# sns.move_legend(ax, loc=\"upper right\")\n",
    "# plt.show()\n",
    "\n",
    "# #  bbox_to_anchor=(.55, .45)"
   ]
  },
  {
   "cell_type": "code",
   "execution_count": 20,
   "metadata": {},
   "outputs": [
    {
     "data": {
      "text/plain": [
       "['Date_received', 'Date_sent_to_company']"
      ]
     },
     "execution_count": 20,
     "metadata": {},
     "output_type": "execute_result"
    }
   ],
   "source": [
    "mask = df.columns.tolist()\n",
    "cols = [col.replace(\" \",\"_\") for col in mask if col.startswith('D')]\n",
    "cols"
   ]
  },
  {
   "cell_type": "code",
   "execution_count": 21,
   "metadata": {},
   "outputs": [
    {
     "name": "stdout",
     "output_type": "stream",
     "text": [
      "No     620036\n",
      "Yes    148378\n",
      "Name: Consumer disputed?, dtype: int64\n"
     ]
    },
    {
     "data": {
      "text/plain": [
       "Web            7954\n",
       "Postal mail     597\n",
       "Referral        503\n",
       "Phone           419\n",
       "Fax              72\n",
       "Name: Submitted via, dtype: int64"
      ]
     },
     "execution_count": 21,
     "metadata": {},
     "output_type": "execute_result"
    },
    {
     "data": {
      "image/png": "[encoded data removed]",
      "text/plain": [
       "<Figure size 1080x504 with 1 Axes>"
      ]
     },
     "metadata": {
      "needs_background": "light"
     },
     "output_type": "display_data"
    }
   ],
   "source": [
    "\"\"\"\n",
    "Handling the Consumer disputed column\n",
    "\"\"\"\n",
    "plt.figure(figsize=(15,7))\n",
    "print(df['Consumer disputed?'].value_counts())\n",
    "ax = sns.countplot(df['Consumer disputed?'], )\n",
    "# ax.set_xticklabels(ax.get_xticklabels(), rotation=45, horizontalalignment='right')\n",
    "\n",
    "dispute_missing = df[df['Consumer disputed?'].isnull() != False]\n",
    "dispute_missing['Submitted via'].value_counts()\n",
    "dispute_missing['Submitted via'].value_counts()\n",
    "\n",
    "\n",
    "# plt.tight_layout()"
   ]
  },
  {
   "cell_type": "markdown",
   "metadata": {},
   "source": [
    "- From our missing_percent table, 1 percent of the \"Consumer_disputed?\" is missing \n",
    "- We created a dataframe containing only rows where the \"Consumer_disputed?\" was missing\n",
    "- From the new dataframe, we can see that there is no logical relationship with any of the other variables\n",
    "- Since the missing data is small, and we can't establish any pattern that can be used to fill them, we drop the rows where the data is missing "
   ]
  },
  {
   "cell_type": "code",
   "execution_count": 22,
   "metadata": {},
   "outputs": [],
   "source": [
    "\"\"\"\n",
    "final cleaning deduced from  analysis \n",
    "\"\"\"\n",
    "\n",
    "#Creating a list of columns to be dropped\n",
    "drop_columns = ['Date received', 'Complaint ID', 'Sub-product', 'Sub-issue',\n",
    "                'Consumer complaint narrative','Company public response', 'Tags']\n",
    "\n",
    "#dropping the columns from the drop_columns list\n",
    "df.drop(columns=drop_columns, inplace=True)\n",
    "\n",
    "# Dropping rows with missing data from important columns \n",
    "df.dropna(subset=['State', 'ZIP code', 'Consumer disputed?'], inplace=True)\n",
    "\n",
    "#Forward fill missing columns\n",
    "df['Consumer consent provided?'].fillna(method='ffill', inplace=True)"
   ]
  },
  {
   "cell_type": "markdown",
   "metadata": {},
   "source": [
    "- We add the \"Date received\" and \"Complaint ID\" columns to the drop_columns list to since they are not relevant for our analysis \n",
    "- Now we can check our data to see the cleaning we just carried out "
   ]
  },
  {
   "cell_type": "code",
   "execution_count": 23,
   "metadata": {},
   "outputs": [
    {
     "data": {
      "text/html": [
       "<div>\n",
       "<style scoped>\n",
       "    .dataframe tbody tr th:only-of-type {\n",
       "        vertical-align: middle;\n",
       "    }\n",
       "\n",
       "    .dataframe tbody tr th {\n",
       "        vertical-align: top;\n",
       "    }\n",
       "\n",
       "    .dataframe thead th {\n",
       "        text-align: right;\n",
       "    }\n",
       "</style>\n",
       "<table border=\"1\" class=\"dataframe\">\n",
       "  <thead>\n",
       "    <tr style=\"text-align: right;\">\n",
       "      <th></th>\n",
       "      <th>Consumer consent provided?</th>\n",
       "    </tr>\n",
       "  </thead>\n",
       "  <tbody>\n",
       "    <tr>\n",
       "      <th>Total Missing Data</th>\n",
       "      <td>9.000</td>\n",
       "    </tr>\n",
       "    <tr>\n",
       "      <th>% Missing Data</th>\n",
       "      <td>0.001</td>\n",
       "    </tr>\n",
       "  </tbody>\n",
       "</table>\n",
       "</div>"
      ],
      "text/plain": [
       "                    Consumer consent provided?\n",
       "Total Missing Data                       9.000\n",
       "% Missing Data                           0.001"
      ]
     },
     "execution_count": 23,
     "metadata": {},
     "output_type": "execute_result"
    }
   ],
   "source": [
    "#Checking for missing values\n",
    "missing_data_percent(df)"
   ]
  },
  {
   "cell_type": "markdown",
   "metadata": {},
   "source": [
    "- We can see that some rows in the \"Consumer consent provided?\" column are still missing \n",
    "- This is because we used forward fill which fills the next missing data with the value in the previous row\n",
    "- The rows with no valid data in their previous rows are not filled hence the missing data"
   ]
  },
  {
   "cell_type": "code",
   "execution_count": 24,
   "metadata": {},
   "outputs": [
    {
     "name": "stdout",
     "output_type": "stream",
     "text": [
      "Consent provided        420739\n",
      "Consent not provided    319646\n",
      "Other                    22322\n",
      "Consent withdrawn           18\n",
      "Name: Consumer consent provided?, dtype: int64\n"
     ]
    }
   ],
   "source": [
    "#Checking the counts of unique rows in the Consumer consent provided? column\n",
    "print(df['Consumer consent provided?'].value_counts())\n",
    "\n",
    "#filling the missing data \n",
    "df['Consumer consent provided?'].fillna(\"Consent provided\", inplace=True)"
   ]
  },
  {
   "cell_type": "markdown",
   "metadata": {},
   "source": [
    "- We check the count of each category in the \"Consumer consent provided?\" column \n",
    "- Then we fill the remaining ,issing values with the most frequent occurence\n",
    "- This helps eliminate missing values and still keeps the dataset balanced"
   ]
  },
  {
   "cell_type": "code",
   "execution_count": 25,
   "metadata": {},
   "outputs": [
    {
     "data": {
      "text/html": [
       "<div>\n",
       "<style scoped>\n",
       "    .dataframe tbody tr th:only-of-type {\n",
       "        vertical-align: middle;\n",
       "    }\n",
       "\n",
       "    .dataframe tbody tr th {\n",
       "        vertical-align: top;\n",
       "    }\n",
       "\n",
       "    .dataframe thead th {\n",
       "        text-align: right;\n",
       "    }\n",
       "</style>\n",
       "<table border=\"1\" class=\"dataframe\">\n",
       "  <thead>\n",
       "    <tr style=\"text-align: right;\">\n",
       "      <th></th>\n",
       "    </tr>\n",
       "  </thead>\n",
       "  <tbody>\n",
       "    <tr>\n",
       "      <th>Total Missing Data</th>\n",
       "    </tr>\n",
       "    <tr>\n",
       "      <th>% Missing Data</th>\n",
       "    </tr>\n",
       "  </tbody>\n",
       "</table>\n",
       "</div>"
      ],
      "text/plain": [
       "Empty DataFrame\n",
       "Columns: []\n",
       "Index: [Total Missing Data, % Missing Data]"
      ]
     },
     "execution_count": 25,
     "metadata": {},
     "output_type": "execute_result"
    }
   ],
   "source": [
    "#Check for missing values\n",
    "missing_data_percent(df)"
   ]
  },
  {
   "cell_type": "markdown",
   "metadata": {},
   "source": [
    "- Now we have finally rid our data of missing values "
   ]
  },
  {
   "cell_type": "code",
   "execution_count": 26,
   "metadata": {},
   "outputs": [
    {
     "name": "stdout",
     "output_type": "stream",
     "text": [
      "False    593746\n",
      "True     168988\n",
      "Name: ZIP code, dtype: int64\n"
     ]
    }
   ],
   "source": [
    "#Checking the count of ZIP codes with irregularities\n",
    "print(df[\"ZIP code\"].str.contains(\"X\").value_counts())\n",
    "\n",
    "#dropping the columns \n",
    "df = df[~df['ZIP code'].astype('str').str.contains(\"X\")]"
   ]
  },
  {
   "cell_type": "markdown",
   "metadata": {},
   "source": [
    "- We discover that our ZIP codes column has irregularities, where some of the zip codes are invalid as they contain the letter 'X'\n",
    "- So we drop the rows where this occurrence is prevalent "
   ]
  },
  {
   "cell_type": "code",
   "execution_count": 27,
   "metadata": {},
   "outputs": [
    {
     "data": {
      "text/plain": [
       "Index(['Product', 'Issue', 'Company', 'State', 'ZIP_code',\n",
       "       'Consumer_consent_provided?', 'Submitted_via', 'Date_sent_to_company',\n",
       "       'Company_response_to_consumer', 'Timely_response?',\n",
       "       'Consumer_disputed?'],\n",
       "      dtype='object')"
      ]
     },
     "execution_count": 27,
     "metadata": {},
     "output_type": "execute_result"
    }
   ],
   "source": [
    "# #Cleaning column names by replacing spaces with underscores\n",
    "df.columns = [cols.replace(' ', '_' ) for cols in df.columns]\n",
    "\n",
    "#previewing the column names after cleaning\n",
    "df.columns"
   ]
  },
  {
   "cell_type": "markdown",
   "metadata": {},
   "source": [
    "- We can see that there are inconsistencies in our column names, so we address this with some additional cleaning\n",
    "- We do this by replacing spaces in column names with underscores "
   ]
  },
  {
   "cell_type": "code",
   "execution_count": 28,
   "metadata": {},
   "outputs": [],
   "source": [
    "#Saving the data to a new csv file \n",
    "\n",
    "df.to_csv(\"Cleaned_Consumer_Complaints.csv\", index=False)"
   ]
  },
  {
   "cell_type": "markdown",
   "metadata": {},
   "source": [
    "- Now that our data is fully cleaned, we save our new data so that it can be used for the the next stage of  analysis"
   ]
  }
 ],
 "metadata": {
  "kernelspec": {
   "display_name": "Python 3 (ipykernel)",
   "language": "python",
   "name": "python3"
  },
  "language_info": {
   "codemirror_mode": {
    "name": "ipython",
    "version": 3
   },
   "file_extension": ".py",
   "mimetype": "text/x-python",
   "name": "python",
   "nbconvert_exporter": "python",
   "pygments_lexer": "ipython3",
   "version": "3.9.7"
  },
  "vscode": {
   "interpreter": {
    "hash": "72e7ed54de08d340cacbb5ef5a2190fe9f47efed678c034d3f080abbfaba404c"
   }
  }
 },
 "nbformat": 4,
 "nbformat_minor": 4
}
