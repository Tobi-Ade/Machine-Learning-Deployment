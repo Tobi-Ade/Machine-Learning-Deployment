{
 "cells": [
  {
   "cell_type": "code",
   "execution_count": 51,
   "metadata": {},
   "outputs": [],
   "source": [
    "import pandas as pd\n",
    "import matplotlib.pyplot as plt\n",
    "import seaborn as sns\n",
    "import warnings\n",
    "warnings.filterwarnings('ignore')"
   ]
  },
  {
   "cell_type": "code",
   "execution_count": 52,
   "metadata": {},
   "outputs": [
    {
     "data": {
      "text/html": [
       "<div>\n",
       "<style scoped>\n",
       "    .dataframe tbody tr th:only-of-type {\n",
       "        vertical-align: middle;\n",
       "    }\n",
       "\n",
       "    .dataframe tbody tr th {\n",
       "        vertical-align: top;\n",
       "    }\n",
       "\n",
       "    .dataframe thead th {\n",
       "        text-align: right;\n",
       "    }\n",
       "</style>\n",
       "<table border=\"1\" class=\"dataframe\">\n",
       "  <thead>\n",
       "    <tr style=\"text-align: right;\">\n",
       "      <th></th>\n",
       "      <th>Date received</th>\n",
       "      <th>Product</th>\n",
       "      <th>Sub-product</th>\n",
       "      <th>Issue</th>\n",
       "      <th>Sub-issue</th>\n",
       "      <th>Consumer complaint narrative</th>\n",
       "      <th>Company public response</th>\n",
       "      <th>Company</th>\n",
       "      <th>State</th>\n",
       "      <th>ZIP code</th>\n",
       "      <th>Tags</th>\n",
       "      <th>Consumer consent provided?</th>\n",
       "      <th>Submitted via</th>\n",
       "      <th>Date sent to company</th>\n",
       "      <th>Company response to consumer</th>\n",
       "      <th>Timely response?</th>\n",
       "      <th>Consumer disputed?</th>\n",
       "      <th>Complaint ID</th>\n",
       "    </tr>\n",
       "  </thead>\n",
       "  <tbody>\n",
       "    <tr>\n",
       "      <th>0</th>\n",
       "      <td>03/21/2017</td>\n",
       "      <td>Credit reporting</td>\n",
       "      <td>NaN</td>\n",
       "      <td>Incorrect information on credit report</td>\n",
       "      <td>Information is not mine</td>\n",
       "      <td>NaN</td>\n",
       "      <td>Company has responded to the consumer and the ...</td>\n",
       "      <td>EXPERIAN DELAWARE GP</td>\n",
       "      <td>TX</td>\n",
       "      <td>77075</td>\n",
       "      <td>Older American</td>\n",
       "      <td>NaN</td>\n",
       "      <td>Phone</td>\n",
       "      <td>03/21/2017</td>\n",
       "      <td>Closed with non-monetary relief</td>\n",
       "      <td>Yes</td>\n",
       "      <td>No</td>\n",
       "      <td>2397100</td>\n",
       "    </tr>\n",
       "    <tr>\n",
       "      <th>1</th>\n",
       "      <td>04/19/2017</td>\n",
       "      <td>Debt collection</td>\n",
       "      <td>Other (i.e. phone, health club, etc.)</td>\n",
       "      <td>Disclosure verification of debt</td>\n",
       "      <td>Not disclosed as an attempt to collect</td>\n",
       "      <td>NaN</td>\n",
       "      <td>NaN</td>\n",
       "      <td>Security Credit Services, LLC</td>\n",
       "      <td>IL</td>\n",
       "      <td>60643</td>\n",
       "      <td>NaN</td>\n",
       "      <td>NaN</td>\n",
       "      <td>Web</td>\n",
       "      <td>04/20/2017</td>\n",
       "      <td>Closed with explanation</td>\n",
       "      <td>Yes</td>\n",
       "      <td>No</td>\n",
       "      <td>2441777</td>\n",
       "    </tr>\n",
       "    <tr>\n",
       "      <th>2</th>\n",
       "      <td>04/19/2017</td>\n",
       "      <td>Credit card</td>\n",
       "      <td>NaN</td>\n",
       "      <td>Other</td>\n",
       "      <td>NaN</td>\n",
       "      <td>NaN</td>\n",
       "      <td>Company has responded to the consumer and the ...</td>\n",
       "      <td>CITIBANK, N.A.</td>\n",
       "      <td>IL</td>\n",
       "      <td>62025</td>\n",
       "      <td>NaN</td>\n",
       "      <td>NaN</td>\n",
       "      <td>Referral</td>\n",
       "      <td>04/20/2017</td>\n",
       "      <td>Closed with explanation</td>\n",
       "      <td>Yes</td>\n",
       "      <td>No</td>\n",
       "      <td>2441830</td>\n",
       "    </tr>\n",
       "    <tr>\n",
       "      <th>3</th>\n",
       "      <td>04/14/2017</td>\n",
       "      <td>Mortgage</td>\n",
       "      <td>Other mortgage</td>\n",
       "      <td>Loan modification,collection,foreclosure</td>\n",
       "      <td>NaN</td>\n",
       "      <td>NaN</td>\n",
       "      <td>Company believes it acted appropriately as aut...</td>\n",
       "      <td>Shellpoint Partners, LLC</td>\n",
       "      <td>CA</td>\n",
       "      <td>90305</td>\n",
       "      <td>NaN</td>\n",
       "      <td>NaN</td>\n",
       "      <td>Referral</td>\n",
       "      <td>04/14/2017</td>\n",
       "      <td>Closed with explanation</td>\n",
       "      <td>Yes</td>\n",
       "      <td>No</td>\n",
       "      <td>2436165</td>\n",
       "    </tr>\n",
       "    <tr>\n",
       "      <th>4</th>\n",
       "      <td>04/19/2017</td>\n",
       "      <td>Credit card</td>\n",
       "      <td>NaN</td>\n",
       "      <td>Credit determination</td>\n",
       "      <td>NaN</td>\n",
       "      <td>NaN</td>\n",
       "      <td>Company has responded to the consumer and the ...</td>\n",
       "      <td>U.S. BANCORP</td>\n",
       "      <td>LA</td>\n",
       "      <td>70571</td>\n",
       "      <td>NaN</td>\n",
       "      <td>NaN</td>\n",
       "      <td>Postal mail</td>\n",
       "      <td>04/21/2017</td>\n",
       "      <td>Closed with explanation</td>\n",
       "      <td>Yes</td>\n",
       "      <td>No</td>\n",
       "      <td>2441726</td>\n",
       "    </tr>\n",
       "  </tbody>\n",
       "</table>\n",
       "</div>"
      ],
      "text/plain": [
       "  Date received           Product                            Sub-product  \\\n",
       "0    03/21/2017  Credit reporting                                    NaN   \n",
       "1    04/19/2017   Debt collection  Other (i.e. phone, health club, etc.)   \n",
       "2    04/19/2017       Credit card                                    NaN   \n",
       "3    04/14/2017          Mortgage                         Other mortgage   \n",
       "4    04/19/2017       Credit card                                    NaN   \n",
       "\n",
       "                                      Issue  \\\n",
       "0    Incorrect information on credit report   \n",
       "1           Disclosure verification of debt   \n",
       "2                                     Other   \n",
       "3  Loan modification,collection,foreclosure   \n",
       "4                      Credit determination   \n",
       "\n",
       "                                Sub-issue Consumer complaint narrative  \\\n",
       "0                 Information is not mine                          NaN   \n",
       "1  Not disclosed as an attempt to collect                          NaN   \n",
       "2                                     NaN                          NaN   \n",
       "3                                     NaN                          NaN   \n",
       "4                                     NaN                          NaN   \n",
       "\n",
       "                             Company public response  \\\n",
       "0  Company has responded to the consumer and the ...   \n",
       "1                                                NaN   \n",
       "2  Company has responded to the consumer and the ...   \n",
       "3  Company believes it acted appropriately as aut...   \n",
       "4  Company has responded to the consumer and the ...   \n",
       "\n",
       "                         Company State ZIP code            Tags  \\\n",
       "0           EXPERIAN DELAWARE GP    TX    77075  Older American   \n",
       "1  Security Credit Services, LLC    IL    60643             NaN   \n",
       "2                 CITIBANK, N.A.    IL    62025             NaN   \n",
       "3       Shellpoint Partners, LLC    CA    90305             NaN   \n",
       "4                   U.S. BANCORP    LA    70571             NaN   \n",
       "\n",
       "  Consumer consent provided? Submitted via Date sent to company  \\\n",
       "0                        NaN         Phone           03/21/2017   \n",
       "1                        NaN           Web           04/20/2017   \n",
       "2                        NaN      Referral           04/20/2017   \n",
       "3                        NaN      Referral           04/14/2017   \n",
       "4                        NaN   Postal mail           04/21/2017   \n",
       "\n",
       "      Company response to consumer Timely response? Consumer disputed?  \\\n",
       "0  Closed with non-monetary relief              Yes                 No   \n",
       "1          Closed with explanation              Yes                 No   \n",
       "2          Closed with explanation              Yes                 No   \n",
       "3          Closed with explanation              Yes                 No   \n",
       "4          Closed with explanation              Yes                 No   \n",
       "\n",
       "   Complaint ID  \n",
       "0       2397100  \n",
       "1       2441777  \n",
       "2       2441830  \n",
       "3       2436165  \n",
       "4       2441726  "
      ]
     },
     "execution_count": 52,
     "metadata": {},
     "output_type": "execute_result"
    }
   ],
   "source": [
    "df = pd.read_csv('Consumer_Complaints.csv')\n",
    "df.head()"
   ]
  },
  {
   "cell_type": "code",
   "execution_count": 53,
   "metadata": {},
   "outputs": [
    {
     "data": {
      "text/plain": [
       "['Date received',\n",
       " 'Product',\n",
       " 'Sub-product',\n",
       " 'Issue',\n",
       " 'Sub-issue',\n",
       " 'Consumer complaint narrative',\n",
       " 'Company public response',\n",
       " 'Company',\n",
       " 'State',\n",
       " 'ZIP code',\n",
       " 'Tags',\n",
       " 'Consumer consent provided?',\n",
       " 'Submitted via',\n",
       " 'Date sent to company',\n",
       " 'Company response to consumer',\n",
       " 'Timely response?',\n",
       " 'Consumer disputed?',\n",
       " 'Complaint ID']"
      ]
     },
     "execution_count": 53,
     "metadata": {},
     "output_type": "execute_result"
    }
   ],
   "source": [
    "# get all the columns in the data \n",
    "cols = df.columns.tolist()\n",
    "cols"
   ]
  },
  {
   "cell_type": "code",
   "execution_count": 54,
   "metadata": {},
   "outputs": [
    {
     "data": {
      "text/plain": [
       "Mortgage                                                                        228167\n",
       "Debt collection                                                                 148016\n",
       "Credit reporting                                                                140405\n",
       "Credit card                                                                      89189\n",
       "Bank account or service                                                          86206\n",
       "Student loan                                                                     33044\n",
       "Consumer Loan                                                                    31591\n",
       "Payday loan                                                                       5543\n",
       "Money transfers                                                                   5355\n",
       "Prepaid card                                                                      3817\n",
       "Credit reporting, credit repair services, or other personal consumer reports      3490\n",
       "Other financial service                                                           1051\n",
       "Credit card or prepaid card                                                        919\n",
       "Checking or savings account                                                        664\n",
       "Vehicle loan or lease                                                              221\n",
       "Payday loan, title loan, or personal loan                                          140\n",
       "Money transfer, virtual currency, or money service                                 123\n",
       "Virtual currency                                                                    18\n",
       "Name: Product, dtype: int64"
      ]
     },
     "execution_count": 54,
     "metadata": {},
     "output_type": "execute_result"
    }
   ],
   "source": [
    "df['Product'].value_counts()"
   ]
  },
  {
   "attachments": {},
   "cell_type": "markdown",
   "metadata": {},
   "source": [
    "#### Data Analysis \n",
    "\n",
    "Presenting the data for deep cleaning. Below are the steps we are going to take to carry an in-depth data cleansing.\n",
    "- Data Cleaning/Quality Check\n",
    "- Data Transformation\n",
    "- Data \n",
    "- Data Modelling"
   ]
  },
  {
   "cell_type": "code",
   "execution_count": 55,
   "metadata": {},
   "outputs": [
    {
     "name": "stdout",
     "output_type": "stream",
     "text": [
      "<class 'pandas.core.frame.DataFrame'>\n",
      "RangeIndex: 777959 entries, 0 to 777958\n",
      "Data columns (total 18 columns):\n",
      " #   Column                        Non-Null Count   Dtype \n",
      "---  ------                        --------------   ----- \n",
      " 0   Date received                 777959 non-null  object\n",
      " 1   Product                       777959 non-null  object\n",
      " 2   Sub-product                   542822 non-null  object\n",
      " 3   Issue                         777959 non-null  object\n",
      " 4   Sub-issue                     320986 non-null  object\n",
      " 5   Consumer complaint narrative  157865 non-null  object\n",
      " 6   Company public response       197884 non-null  object\n",
      " 7   Company                       777959 non-null  object\n",
      " 8   State                         772056 non-null  object\n",
      " 9   ZIP code                      772001 non-null  object\n",
      " 10  Tags                          109264 non-null  object\n",
      " 11  Consumer consent provided?    288311 non-null  object\n",
      " 12  Submitted via                 777959 non-null  object\n",
      " 13  Date sent to company          777959 non-null  object\n",
      " 14  Company response to consumer  777959 non-null  object\n",
      " 15  Timely response?              777959 non-null  object\n",
      " 16  Consumer disputed?            768414 non-null  object\n",
      " 17  Complaint ID                  777959 non-null  int64 \n",
      "dtypes: int64(1), object(17)\n",
      "memory usage: 106.8+ MB\n"
     ]
    }
   ],
   "source": [
    "# check for the information of the dataset\n",
    "df.info()"
   ]
  },
  {
   "attachments": {},
   "cell_type": "markdown",
   "metadata": {},
   "source": [
    "From the table shown above, we can deduce that 98% of our dataset are catergorical variables. Complaint ID happens to be only numerical variable."
   ]
  },
  {
   "cell_type": "code",
   "execution_count": 56,
   "metadata": {},
   "outputs": [
    {
     "name": "stdout",
     "output_type": "stream",
     "text": [
      "The total records in our dataset is 777959\n"
     ]
    }
   ],
   "source": [
    "# calculate the total records in the data \n",
    "total_data_length = len(df)\n",
    "print(f'The total records in our dataset is {total_data_length}')"
   ]
  },
  {
   "cell_type": "code",
   "execution_count": 57,
   "metadata": {},
   "outputs": [
    {
     "name": "stdout",
     "output_type": "stream",
     "text": [
      "There are 0.76% states missing and it represents a small portion of the data\n"
     ]
    }
   ],
   "source": [
    "# check the missing states \n",
    "missing_states = df['State'].isnull().sum()\n",
    "# missing_states\n",
    "\n",
    "# percentage of missing states\n",
    "percent = 100\n",
    "missing_states_perc = (missing_states / total_data_length) * percent\n",
    "print(f'There are {missing_states_perc:.2f}% states missing and it represents a small portion of the data')"
   ]
  },
  {
   "cell_type": "code",
   "execution_count": 58,
   "metadata": {},
   "outputs": [
    {
     "data": {
      "text/html": [
       "<div>\n",
       "<style scoped>\n",
       "    .dataframe tbody tr th:only-of-type {\n",
       "        vertical-align: middle;\n",
       "    }\n",
       "\n",
       "    .dataframe tbody tr th {\n",
       "        vertical-align: top;\n",
       "    }\n",
       "\n",
       "    .dataframe thead th {\n",
       "        text-align: right;\n",
       "    }\n",
       "</style>\n",
       "<table border=\"1\" class=\"dataframe\">\n",
       "  <thead>\n",
       "    <tr style=\"text-align: right;\">\n",
       "      <th></th>\n",
       "      <th>count</th>\n",
       "      <th>mean</th>\n",
       "      <th>std</th>\n",
       "      <th>min</th>\n",
       "      <th>25%</th>\n",
       "      <th>50%</th>\n",
       "      <th>75%</th>\n",
       "      <th>max</th>\n",
       "    </tr>\n",
       "  </thead>\n",
       "  <tbody>\n",
       "    <tr>\n",
       "      <th>Complaint ID</th>\n",
       "      <td>777959.0</td>\n",
       "      <td>1.310413e+06</td>\n",
       "      <td>728727.579489</td>\n",
       "      <td>1.0</td>\n",
       "      <td>691289.0</td>\n",
       "      <td>1353374.0</td>\n",
       "      <td>1956984.5</td>\n",
       "      <td>2488370.0</td>\n",
       "    </tr>\n",
       "  </tbody>\n",
       "</table>\n",
       "</div>"
      ],
      "text/plain": [
       "                 count          mean            std  min       25%        50%  \\\n",
       "Complaint ID  777959.0  1.310413e+06  728727.579489  1.0  691289.0  1353374.0   \n",
       "\n",
       "                    75%        max  \n",
       "Complaint ID  1956984.5  2488370.0  "
      ]
     },
     "execution_count": 58,
     "metadata": {},
     "output_type": "execute_result"
    }
   ],
   "source": [
    "# Descriptive summary characteristics \n",
    "df.describe().T"
   ]
  },
  {
   "cell_type": "code",
   "execution_count": 59,
   "metadata": {},
   "outputs": [
    {
     "data": {
      "text/html": [
       "<div>\n",
       "<style scoped>\n",
       "    .dataframe tbody tr th:only-of-type {\n",
       "        vertical-align: middle;\n",
       "    }\n",
       "\n",
       "    .dataframe tbody tr th {\n",
       "        vertical-align: top;\n",
       "    }\n",
       "\n",
       "    .dataframe thead th {\n",
       "        text-align: right;\n",
       "    }\n",
       "</style>\n",
       "<table border=\"1\" class=\"dataframe\">\n",
       "  <thead>\n",
       "    <tr style=\"text-align: right;\">\n",
       "      <th></th>\n",
       "      <th>State</th>\n",
       "    </tr>\n",
       "  </thead>\n",
       "  <tbody>\n",
       "    <tr>\n",
       "      <th>PW</th>\n",
       "      <td>12</td>\n",
       "    </tr>\n",
       "    <tr>\n",
       "      <th>AA</th>\n",
       "      <td>13</td>\n",
       "    </tr>\n",
       "    <tr>\n",
       "      <th>AS</th>\n",
       "      <td>25</td>\n",
       "    </tr>\n",
       "    <tr>\n",
       "      <th>MH</th>\n",
       "      <td>30</td>\n",
       "    </tr>\n",
       "    <tr>\n",
       "      <th>MP</th>\n",
       "      <td>31</td>\n",
       "    </tr>\n",
       "    <tr>\n",
       "      <th>...</th>\n",
       "      <td>...</td>\n",
       "    </tr>\n",
       "    <tr>\n",
       "      <th>GA</th>\n",
       "      <td>36889</td>\n",
       "    </tr>\n",
       "    <tr>\n",
       "      <th>NY</th>\n",
       "      <td>53161</td>\n",
       "    </tr>\n",
       "    <tr>\n",
       "      <th>TX</th>\n",
       "      <td>60400</td>\n",
       "    </tr>\n",
       "    <tr>\n",
       "      <th>FL</th>\n",
       "      <td>74507</td>\n",
       "    </tr>\n",
       "    <tr>\n",
       "      <th>CA</th>\n",
       "      <td>111765</td>\n",
       "    </tr>\n",
       "  </tbody>\n",
       "</table>\n",
       "<p>62 rows × 1 columns</p>\n",
       "</div>"
      ],
      "text/plain": [
       "     State\n",
       "PW      12\n",
       "AA      13\n",
       "AS      25\n",
       "MH      30\n",
       "MP      31\n",
       "..     ...\n",
       "GA   36889\n",
       "NY   53161\n",
       "TX   60400\n",
       "FL   74507\n",
       "CA  111765\n",
       "\n",
       "[62 rows x 1 columns]"
      ]
     },
     "execution_count": 59,
     "metadata": {},
     "output_type": "execute_result"
    }
   ],
   "source": [
    "# get state count in the data\n",
    "state = df['State'].value_counts()\n",
    "# convert pandas series to dataframe\n",
    "state_df = state.sort_values(ascending=True).to_frame()\n",
    "state_df"
   ]
  },
  {
   "cell_type": "code",
   "execution_count": 77,
   "metadata": {},
   "outputs": [
    {
     "data": {
      "text/plain": [
       "739579"
      ]
     },
     "execution_count": 77,
     "metadata": {},
     "output_type": "execute_result"
    }
   ],
   "source": [
    "len(df.loc[df['Tags'] != 'Servicemember'])"
   ]
  },
  {
   "cell_type": "code",
   "execution_count": 81,
   "metadata": {},
   "outputs": [
    {
     "data": {
      "image/png": "[encoded data removed]",
      "text/plain": [
       "<Figure size 1080x720 with 1 Axes>"
      ]
     },
     "metadata": {
      "needs_background": "light"
     },
     "output_type": "display_data"
    }
   ],
   "source": [
    "# df['Company response to consumer'].value_counts()\n",
    "plt.figure(figsize=(15,10))\n",
    "sns.countplot('Company response to consumer', hue='Tags', data=df)\n",
    "plt.legend(loc='upper right')\n",
    "plt.ylabel('Number of consumers')\n",
    "plt.xticks(rotation=30)\n",
    "plt.show()"
   ]
  },
  {
   "cell_type": "code",
   "execution_count": 71,
   "metadata": {},
   "outputs": [
    {
     "data": {
      "text/html": [
       "<div>\n",
       "<style scoped>\n",
       "    .dataframe tbody tr th:only-of-type {\n",
       "        vertical-align: middle;\n",
       "    }\n",
       "\n",
       "    .dataframe tbody tr th {\n",
       "        vertical-align: top;\n",
       "    }\n",
       "\n",
       "    .dataframe thead th {\n",
       "        text-align: right;\n",
       "    }\n",
       "</style>\n",
       "<table border=\"1\" class=\"dataframe\">\n",
       "  <thead>\n",
       "    <tr style=\"text-align: right;\">\n",
       "      <th></th>\n",
       "      <th>Company</th>\n",
       "      <th>Frequency</th>\n",
       "    </tr>\n",
       "  </thead>\n",
       "  <tbody>\n",
       "    <tr>\n",
       "      <th>0</th>\n",
       "      <td>BANK OF AMERICA, NATIONAL ASSOCIATION</td>\n",
       "      <td>66314</td>\n",
       "    </tr>\n",
       "    <tr>\n",
       "      <th>1</th>\n",
       "      <td>WELLS FARGO BANK, NATIONAL ASSOCIATION</td>\n",
       "      <td>54090</td>\n",
       "    </tr>\n",
       "    <tr>\n",
       "      <th>2</th>\n",
       "      <td>EQUIFAX, INC.</td>\n",
       "      <td>49162</td>\n",
       "    </tr>\n",
       "    <tr>\n",
       "      <th>3</th>\n",
       "      <td>EXPERIAN DELAWARE GP</td>\n",
       "      <td>46896</td>\n",
       "    </tr>\n",
       "    <tr>\n",
       "      <th>4</th>\n",
       "      <td>JPMORGAN CHASE &amp; CO.</td>\n",
       "      <td>42997</td>\n",
       "    </tr>\n",
       "    <tr>\n",
       "      <th>5</th>\n",
       "      <td>TRANSUNION INTERMEDIATE HOLDINGS, INC.</td>\n",
       "      <td>40752</td>\n",
       "    </tr>\n",
       "    <tr>\n",
       "      <th>6</th>\n",
       "      <td>CITIBANK, N.A.</td>\n",
       "      <td>35028</td>\n",
       "    </tr>\n",
       "    <tr>\n",
       "      <th>7</th>\n",
       "      <td>OCWEN LOAN SERVICING LLC</td>\n",
       "      <td>24273</td>\n",
       "    </tr>\n",
       "    <tr>\n",
       "      <th>8</th>\n",
       "      <td>CAPITAL ONE FINANCIAL CORPORATION</td>\n",
       "      <td>20526</td>\n",
       "    </tr>\n",
       "    <tr>\n",
       "      <th>9</th>\n",
       "      <td>Navient Solutions, LLC.</td>\n",
       "      <td>18384</td>\n",
       "    </tr>\n",
       "  </tbody>\n",
       "</table>\n",
       "</div>"
      ],
      "text/plain": [
       "                                  Company  Frequency\n",
       "0   BANK OF AMERICA, NATIONAL ASSOCIATION      66314\n",
       "1  WELLS FARGO BANK, NATIONAL ASSOCIATION      54090\n",
       "2                           EQUIFAX, INC.      49162\n",
       "3                    EXPERIAN DELAWARE GP      46896\n",
       "4                    JPMORGAN CHASE & CO.      42997\n",
       "5  TRANSUNION INTERMEDIATE HOLDINGS, INC.      40752\n",
       "6                          CITIBANK, N.A.      35028\n",
       "7                OCWEN LOAN SERVICING LLC      24273\n",
       "8       CAPITAL ONE FINANCIAL CORPORATION      20526\n",
       "9                 Navient Solutions, LLC.      18384"
      ]
     },
     "execution_count": 71,
     "metadata": {},
     "output_type": "execute_result"
    }
   ],
   "source": [
    "# get the company details \n",
    "company_data = df['Company'].value_counts().to_frame()\n",
    "# reset the index and changes the columns accordingly\n",
    "company_data.reset_index().rename(columns={'index':'Company',\n",
    "                                           'Company':'Frequency'}).head(10)"
   ]
  },
  {
   "attachments": {},
   "cell_type": "markdown",
   "metadata": {},
   "source": [
    "The table above shows the information about all the companies located in United State. The top ten (10) companies with high volume of customer's complaints are from the financial sector."
   ]
  },
  {
   "cell_type": "code",
   "execution_count": 17,
   "metadata": {},
   "outputs": [
    {
     "data": {
      "image/png": "[encoded data removed]",
      "text/plain": [
       "<Figure size 1080x720 with 1 Axes>"
      ]
     },
     "metadata": {
      "needs_background": "light"
     },
     "output_type": "display_data"
    }
   ],
   "source": [
    "plt.figure(figsize=(15,10))\n",
    "sns.countplot('State', data=df, hue='Submitted via')\n",
    "plt.legend(loc='upper right')\n",
    "plt.tight_layout()\n",
    "plt.show()"
   ]
  },
  {
   "cell_type": "code",
   "execution_count": null,
   "metadata": {},
   "outputs": [
    {
     "data": {
      "text/html": [
       "<div>\n",
       "<style scoped>\n",
       "    .dataframe tbody tr th:only-of-type {\n",
       "        vertical-align: middle;\n",
       "    }\n",
       "\n",
       "    .dataframe tbody tr th {\n",
       "        vertical-align: top;\n",
       "    }\n",
       "\n",
       "    .dataframe thead th {\n",
       "        text-align: right;\n",
       "    }\n",
       "</style>\n",
       "<table border=\"1\" class=\"dataframe\">\n",
       "  <thead>\n",
       "    <tr style=\"text-align: right;\">\n",
       "      <th></th>\n",
       "      <th>Sub-product</th>\n",
       "      <th>Sub-issue</th>\n",
       "      <th>Consumer complaint narrative</th>\n",
       "      <th>Company public response</th>\n",
       "      <th>State</th>\n",
       "      <th>ZIP code</th>\n",
       "      <th>Tags</th>\n",
       "      <th>Consumer consent provided?</th>\n",
       "      <th>Consumer disputed?</th>\n",
       "    </tr>\n",
       "  </thead>\n",
       "  <tbody>\n",
       "    <tr>\n",
       "      <th>0</th>\n",
       "      <td>NaN</td>\n",
       "      <td>Information is not mine</td>\n",
       "      <td>NaN</td>\n",
       "      <td>Company has responded to the consumer and the ...</td>\n",
       "      <td>TX</td>\n",
       "      <td>77075</td>\n",
       "      <td>Older American</td>\n",
       "      <td>NaN</td>\n",
       "      <td>No</td>\n",
       "    </tr>\n",
       "    <tr>\n",
       "      <th>1</th>\n",
       "      <td>Other (i.e. phone, health club, etc.)</td>\n",
       "      <td>Not disclosed as an attempt to collect</td>\n",
       "      <td>NaN</td>\n",
       "      <td>NaN</td>\n",
       "      <td>IL</td>\n",
       "      <td>60643</td>\n",
       "      <td>NaN</td>\n",
       "      <td>NaN</td>\n",
       "      <td>No</td>\n",
       "    </tr>\n",
       "    <tr>\n",
       "      <th>2</th>\n",
       "      <td>NaN</td>\n",
       "      <td>NaN</td>\n",
       "      <td>NaN</td>\n",
       "      <td>Company has responded to the consumer and the ...</td>\n",
       "      <td>IL</td>\n",
       "      <td>62025</td>\n",
       "      <td>NaN</td>\n",
       "      <td>NaN</td>\n",
       "      <td>No</td>\n",
       "    </tr>\n",
       "    <tr>\n",
       "      <th>3</th>\n",
       "      <td>Other mortgage</td>\n",
       "      <td>NaN</td>\n",
       "      <td>NaN</td>\n",
       "      <td>Company believes it acted appropriately as aut...</td>\n",
       "      <td>CA</td>\n",
       "      <td>90305</td>\n",
       "      <td>NaN</td>\n",
       "      <td>NaN</td>\n",
       "      <td>No</td>\n",
       "    </tr>\n",
       "    <tr>\n",
       "      <th>4</th>\n",
       "      <td>NaN</td>\n",
       "      <td>NaN</td>\n",
       "      <td>NaN</td>\n",
       "      <td>Company has responded to the consumer and the ...</td>\n",
       "      <td>LA</td>\n",
       "      <td>70571</td>\n",
       "      <td>NaN</td>\n",
       "      <td>NaN</td>\n",
       "      <td>No</td>\n",
       "    </tr>\n",
       "    <tr>\n",
       "      <th>...</th>\n",
       "      <td>...</td>\n",
       "      <td>...</td>\n",
       "      <td>...</td>\n",
       "      <td>...</td>\n",
       "      <td>...</td>\n",
       "      <td>...</td>\n",
       "      <td>...</td>\n",
       "      <td>...</td>\n",
       "      <td>...</td>\n",
       "    </tr>\n",
       "    <tr>\n",
       "      <th>777954</th>\n",
       "      <td>NaN</td>\n",
       "      <td>NaN</td>\n",
       "      <td>NaN</td>\n",
       "      <td>NaN</td>\n",
       "      <td>NY</td>\n",
       "      <td>11743</td>\n",
       "      <td>NaN</td>\n",
       "      <td>NaN</td>\n",
       "      <td>No</td>\n",
       "    </tr>\n",
       "    <tr>\n",
       "      <th>777955</th>\n",
       "      <td>Other mortgage</td>\n",
       "      <td>NaN</td>\n",
       "      <td>NaN</td>\n",
       "      <td>NaN</td>\n",
       "      <td>NY</td>\n",
       "      <td>11423</td>\n",
       "      <td>NaN</td>\n",
       "      <td>NaN</td>\n",
       "      <td>No</td>\n",
       "    </tr>\n",
       "    <tr>\n",
       "      <th>777956</th>\n",
       "      <td>Other mortgage</td>\n",
       "      <td>NaN</td>\n",
       "      <td>NaN</td>\n",
       "      <td>NaN</td>\n",
       "      <td>DE</td>\n",
       "      <td>19803</td>\n",
       "      <td>NaN</td>\n",
       "      <td>NaN</td>\n",
       "      <td>No</td>\n",
       "    </tr>\n",
       "    <tr>\n",
       "      <th>777957</th>\n",
       "      <td>Conventional adjustable mortgage (ARM)</td>\n",
       "      <td>NaN</td>\n",
       "      <td>NaN</td>\n",
       "      <td>NaN</td>\n",
       "      <td>MO</td>\n",
       "      <td>64053</td>\n",
       "      <td>NaN</td>\n",
       "      <td>NaN</td>\n",
       "      <td>Yes</td>\n",
       "    </tr>\n",
       "    <tr>\n",
       "      <th>777958</th>\n",
       "      <td>Conventional fixed mortgage</td>\n",
       "      <td>NaN</td>\n",
       "      <td>NaN</td>\n",
       "      <td>NaN</td>\n",
       "      <td>FL</td>\n",
       "      <td>32536</td>\n",
       "      <td>NaN</td>\n",
       "      <td>NaN</td>\n",
       "      <td>No</td>\n",
       "    </tr>\n",
       "  </tbody>\n",
       "</table>\n",
       "<p>777959 rows × 9 columns</p>\n",
       "</div>"
      ],
      "text/plain": [
       "                                   Sub-product  \\\n",
       "0                                          NaN   \n",
       "1        Other (i.e. phone, health club, etc.)   \n",
       "2                                          NaN   \n",
       "3                               Other mortgage   \n",
       "4                                          NaN   \n",
       "...                                        ...   \n",
       "777954                                     NaN   \n",
       "777955                          Other mortgage   \n",
       "777956                          Other mortgage   \n",
       "777957  Conventional adjustable mortgage (ARM)   \n",
       "777958             Conventional fixed mortgage   \n",
       "\n",
       "                                     Sub-issue Consumer complaint narrative  \\\n",
       "0                      Information is not mine                          NaN   \n",
       "1       Not disclosed as an attempt to collect                          NaN   \n",
       "2                                          NaN                          NaN   \n",
       "3                                          NaN                          NaN   \n",
       "4                                          NaN                          NaN   \n",
       "...                                        ...                          ...   \n",
       "777954                                     NaN                          NaN   \n",
       "777955                                     NaN                          NaN   \n",
       "777956                                     NaN                          NaN   \n",
       "777957                                     NaN                          NaN   \n",
       "777958                                     NaN                          NaN   \n",
       "\n",
       "                                  Company public response State ZIP code  \\\n",
       "0       Company has responded to the consumer and the ...    TX    77075   \n",
       "1                                                     NaN    IL    60643   \n",
       "2       Company has responded to the consumer and the ...    IL    62025   \n",
       "3       Company believes it acted appropriately as aut...    CA    90305   \n",
       "4       Company has responded to the consumer and the ...    LA    70571   \n",
       "...                                                   ...   ...      ...   \n",
       "777954                                                NaN    NY    11743   \n",
       "777955                                                NaN    NY    11423   \n",
       "777956                                                NaN    DE    19803   \n",
       "777957                                                NaN    MO    64053   \n",
       "777958                                                NaN    FL    32536   \n",
       "\n",
       "                  Tags Consumer consent provided? Consumer disputed?  \n",
       "0       Older American                        NaN                 No  \n",
       "1                  NaN                        NaN                 No  \n",
       "2                  NaN                        NaN                 No  \n",
       "3                  NaN                        NaN                 No  \n",
       "4                  NaN                        NaN                 No  \n",
       "...                ...                        ...                ...  \n",
       "777954             NaN                        NaN                 No  \n",
       "777955             NaN                        NaN                 No  \n",
       "777956             NaN                        NaN                 No  \n",
       "777957             NaN                        NaN                Yes  \n",
       "777958             NaN                        NaN                 No  \n",
       "\n",
       "[777959 rows x 9 columns]"
      ]
     },
     "metadata": {},
     "output_type": "display_data"
    }
   ],
   "source": [
    "# check data for missing data \n",
    "# df.isnull().sum()\n",
    "# an array for columns with missing values \n",
    "cols_miss_values = []\n",
    "for col in df.columns:\n",
    "    if df[col].isnull().sum() > 0:\n",
    "        cols_miss_values.append(col)\n",
    "    \n",
    "cols_miss_values\n",
    "    \n",
    "df[cols_miss_values]"
   ]
  },
  {
   "cell_type": "code",
   "execution_count": 5,
   "metadata": {},
   "outputs": [
    {
     "data": {
      "image/png": "[encoded data removed]",
      "text/plain": [
       "<Figure size 1080x864 with 1 Axes>"
      ]
     },
     "metadata": {
      "needs_background": "light"
     },
     "output_type": "display_data"
    }
   ],
   "source": [
    "labels = list(df['Product'].unique())\n",
    "plt.figure(figsize=(15,12))\n",
    "ax = sns.countplot(df['Product'], hue=df['Consumer consent provided?'])\n",
    "ax.set_xticklabels(ax.get_xticklabels(), rotation=45, horizontalalignment='right')\n",
    "sns.move_legend(ax, loc=\"upper right\")\n",
    "plt.show()\n",
    "\n",
    "#  bbox_to_anchor=(.55, .45)"
   ]
  },
  {
   "cell_type": "code",
   "execution_count": 61,
   "metadata": {},
   "outputs": [
    {
     "data": {
      "text/plain": [
       "['Date_received', 'Date_sent_to_company']"
      ]
     },
     "execution_count": 61,
     "metadata": {},
     "output_type": "execute_result"
    }
   ],
   "source": [
    "mask = df.columns.tolist()\n",
    "cols = [col.replace(\" \",\"_\") for col in mask if col.startswith('D')]\n",
    "cols"
   ]
  },
  {
   "cell_type": "code",
   "execution_count": 1,
   "metadata": {},
   "outputs": [
    {
     "ename": "NameError",
     "evalue": "name 'df' is not defined",
     "output_type": "error",
     "traceback": [
      "\u001b[1;31m---------------------------------------------------------------------------\u001b[0m",
      "\u001b[1;31mNameError\u001b[0m                                 Traceback (most recent call last)",
      "\u001b[1;32m<ipython-input-1-b666bf274d0a>\u001b[0m in \u001b[0;36m<module>\u001b[1;34m\u001b[0m\n\u001b[1;32m----> 1\u001b[1;33m \u001b[0mdf\u001b[0m\u001b[1;33m.\u001b[0m\u001b[0mcolumns\u001b[0m\u001b[1;33m\u001b[0m\u001b[1;33m\u001b[0m\u001b[0m\n\u001b[0m",
      "\u001b[1;31mNameError\u001b[0m: name 'df' is not defined"
     ]
    }
   ],
   "source": [
    "df.columns"
   ]
  },
  {
   "cell_type": "code",
   "execution_count": null,
   "metadata": {},
   "outputs": [],
   "source": []
  }
 ],
 "metadata": {
  "kernelspec": {
   "display_name": "Python 3",
   "language": "python",
   "name": "python3"
  },
  "language_info": {
   "codemirror_mode": {
    "name": "ipython",
    "version": 3
   },
   "file_extension": ".py",
   "mimetype": "text/x-python",
   "name": "python",
   "nbconvert_exporter": "python",
   "pygments_lexer": "ipython3",
   "version": "3.6.8"
  },
  "orig_nbformat": 4,
  "vscode": {
   "interpreter": {
    "hash": "72e7ed54de08d340cacbb5ef5a2190fe9f47efed678c034d3f080abbfaba404c"
   }
  }
 },
 "nbformat": 4,
 "nbformat_minor": 2
}
