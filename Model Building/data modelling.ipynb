{
  "cells": [
    {
      "cell_type": "markdown",
      "metadata": {
        "id": "0af34e85-4bf9-4839-b464-ced1fd3faf7a"
      },
      "source": [
        "## This Notebook shows the data modelling process on the cleaned data"
      ],
      "id": "0af34e85-4bf9-4839-b464-ced1fd3faf7a"
    },
    {
      "cell_type": "code",
      "execution_count": null,
      "metadata": {
        "id": "24a2c4b1-75f3-4c2f-ac03-dca458a3a34b"
      },
      "outputs": [],
      "source": [
        "#importing necessary libraries\n",
        "import pandas as pd\n",
        "import numpy as np\n",
        "import seaborn as sns\n",
        "import matplotlib.pyplot as plt\n",
        "import warnings\n",
        "import xgboost as xgb\n",
        "warnings.filterwarnings(\"ignore\")\n",
        "from scipy.stats import chi2_contingency\n",
        "from sklearn.linear_model import LogisticRegression\n",
        "from imblearn.over_sampling import RandomOverSampler\n",
        "from sklearn.model_selection import train_test_split\n",
        "from sklearn.metrics import mutual_info_score\n",
        "from sklearn.tree import DecisionTreeClassifier\n",
        "from sklearn.ensemble import RandomForestClassifier\n",
        "from sklearn.model_selection import GridSearchCV\n",
        "from sklearn.feature_extraction import DictVectorizer\n",
        "from sklearn.metrics import roc_auc_score, roc_curve, confusion_matrix, auc, classification_report"
      ],
      "id": "24a2c4b1-75f3-4c2f-ac03-dca458a3a34b"
    },
    {
      "cell_type": "code",
      "execution_count": null,
      "metadata": {
        "colab": {
          "base_uri": "https://localhost:8080/"
        },
        "id": "9a72c026-a5c5-4db5-8fa6-fe184de4adcf",
        "outputId": "f90b1bfd-bc23-408e-8088-7aec2fc6094f"
      },
      "outputs": [
        {
          "output_type": "stream",
          "name": "stdout",
          "text": [
            "<class 'pandas.core.frame.DataFrame'>\n",
            "RangeIndex: 593746 entries, 0 to 593745\n",
            "Data columns (total 11 columns):\n",
            " #   Column                        Non-Null Count   Dtype \n",
            "---  ------                        --------------   ----- \n",
            " 0   Product                       593746 non-null  object\n",
            " 1   Issue                         593746 non-null  object\n",
            " 2   Company                       593746 non-null  object\n",
            " 3   State                         593746 non-null  object\n",
            " 4   ZIP_code                      593746 non-null  object\n",
            " 5   Consumer_consent_provided?    593746 non-null  object\n",
            " 6   Submitted_via                 593746 non-null  object\n",
            " 7   Date_sent_to_company          593746 non-null  object\n",
            " 8   Company_response_to_consumer  593746 non-null  object\n",
            " 9   Timely_response?              593746 non-null  object\n",
            " 10  Consumer_disputed?            593746 non-null  object\n",
            "dtypes: object(11)\n",
            "memory usage: 49.8+ MB\n"
          ]
        }
      ],
      "source": [
        "#reading the data\n",
        "data  = pd.read_csv(\"/content/drive/MyDrive/Data Science /Data/Cleaned_Consumer_Complaints.csv\")\n",
        "df = data.copy()\n",
        "df.info()"
      ],
      "id": "9a72c026-a5c5-4db5-8fa6-fe184de4adcf"
    },
    {
      "cell_type": "code",
      "execution_count": null,
      "metadata": {
        "colab": {
          "base_uri": "https://localhost:8080/"
        },
        "id": "1BDKiziKcVDu",
        "outputId": "b35b3abc-0be6-4013-8972-fd9a8bf658b4"
      },
      "outputs": [
        {
          "output_type": "stream",
          "name": "stdout",
          "text": [
            "Mounted at /content/drive\n"
          ]
        }
      ],
      "source": [
        "from google.colab import drive\n",
        "drive.mount('/content/drive')"
      ],
      "id": "1BDKiziKcVDu"
    },
    {
      "cell_type": "code",
      "execution_count": null,
      "metadata": {
        "colab": {
          "base_uri": "https://localhost:8080/",
          "height": 250
        },
        "id": "f070fe0d-9181-4acb-8b0d-e4f56d8a76f0",
        "outputId": "f655e22a-d6bf-4dc3-da98-8f58730b8aaf"
      },
      "outputs": [
        {
          "data": {
            "text/html": [
              "\n",
              "  <div id=\"df-df0c21ef-40a8-49c3-ac6d-f78a82cc6292\">\n",
              "    <div class=\"colab-df-container\">\n",
              "      <div>\n",
              "<style scoped>\n",
              "    .dataframe tbody tr th:only-of-type {\n",
              "        vertical-align: middle;\n",
              "    }\n",
              "\n",
              "    .dataframe tbody tr th {\n",
              "        vertical-align: top;\n",
              "    }\n",
              "\n",
              "    .dataframe thead th {\n",
              "        text-align: right;\n",
              "    }\n",
              "</style>\n",
              "<table border=\"1\" class=\"dataframe\">\n",
              "  <thead>\n",
              "    <tr style=\"text-align: right;\">\n",
              "      <th></th>\n",
              "      <th>Product</th>\n",
              "      <th>Issue</th>\n",
              "      <th>Company</th>\n",
              "      <th>State</th>\n",
              "      <th>ZIP_code</th>\n",
              "      <th>Consumer_consent_provided?</th>\n",
              "      <th>Submitted_via</th>\n",
              "      <th>Date_sent_to_company</th>\n",
              "      <th>Company_response_to_consumer</th>\n",
              "      <th>Timely_response?</th>\n",
              "      <th>Consumer_disputed?</th>\n",
              "    </tr>\n",
              "  </thead>\n",
              "  <tbody>\n",
              "    <tr>\n",
              "      <th>0</th>\n",
              "      <td>Credit reporting</td>\n",
              "      <td>Incorrect information on credit report</td>\n",
              "      <td>EXPERIAN DELAWARE GP</td>\n",
              "      <td>TX</td>\n",
              "      <td>77075</td>\n",
              "      <td>Consent provided</td>\n",
              "      <td>Phone</td>\n",
              "      <td>03/21/2017</td>\n",
              "      <td>Closed with non-monetary relief</td>\n",
              "      <td>Yes</td>\n",
              "      <td>No</td>\n",
              "    </tr>\n",
              "    <tr>\n",
              "      <th>1</th>\n",
              "      <td>Debt collection</td>\n",
              "      <td>Disclosure verification of debt</td>\n",
              "      <td>Security Credit Services, LLC</td>\n",
              "      <td>IL</td>\n",
              "      <td>60643</td>\n",
              "      <td>Consent provided</td>\n",
              "      <td>Web</td>\n",
              "      <td>04/20/2017</td>\n",
              "      <td>Closed with explanation</td>\n",
              "      <td>Yes</td>\n",
              "      <td>No</td>\n",
              "    </tr>\n",
              "    <tr>\n",
              "      <th>2</th>\n",
              "      <td>Credit card</td>\n",
              "      <td>Other</td>\n",
              "      <td>CITIBANK, N.A.</td>\n",
              "      <td>IL</td>\n",
              "      <td>62025</td>\n",
              "      <td>Consent provided</td>\n",
              "      <td>Referral</td>\n",
              "      <td>04/20/2017</td>\n",
              "      <td>Closed with explanation</td>\n",
              "      <td>Yes</td>\n",
              "      <td>No</td>\n",
              "    </tr>\n",
              "    <tr>\n",
              "      <th>3</th>\n",
              "      <td>Mortgage</td>\n",
              "      <td>Loan modification,collection,foreclosure</td>\n",
              "      <td>Shellpoint Partners, LLC</td>\n",
              "      <td>CA</td>\n",
              "      <td>90305</td>\n",
              "      <td>Consent provided</td>\n",
              "      <td>Referral</td>\n",
              "      <td>04/14/2017</td>\n",
              "      <td>Closed with explanation</td>\n",
              "      <td>Yes</td>\n",
              "      <td>No</td>\n",
              "    </tr>\n",
              "    <tr>\n",
              "      <th>4</th>\n",
              "      <td>Credit card</td>\n",
              "      <td>Credit determination</td>\n",
              "      <td>U.S. BANCORP</td>\n",
              "      <td>LA</td>\n",
              "      <td>70571</td>\n",
              "      <td>Consent provided</td>\n",
              "      <td>Postal mail</td>\n",
              "      <td>04/21/2017</td>\n",
              "      <td>Closed with explanation</td>\n",
              "      <td>Yes</td>\n",
              "      <td>No</td>\n",
              "    </tr>\n",
              "  </tbody>\n",
              "</table>\n",
              "</div>\n",
              "      <button class=\"colab-df-convert\" onclick=\"convertToInteractive('df-df0c21ef-40a8-49c3-ac6d-f78a82cc6292')\"\n",
              "              title=\"Convert this dataframe to an interactive table.\"\n",
              "              style=\"display:none;\">\n",
              "        \n",
              "  <svg xmlns=\"http://www.w3.org/2000/svg\" height=\"24px\"viewBox=\"0 0 24 24\"\n",
              "       width=\"24px\">\n",
              "    <path d=\"M0 0h24v24H0V0z\" fill=\"none\"/>\n",
              "    <path d=\"M18.56 5.44l.94 2.06.94-2.06 2.06-.94-2.06-.94-.94-2.06-.94 2.06-2.06.94zm-11 1L8.5 8.5l.94-2.06 2.06-.94-2.06-.94L8.5 2.5l-.94 2.06-2.06.94zm10 10l.94 2.06.94-2.06 2.06-.94-2.06-.94-.94-2.06-.94 2.06-2.06.94z\"/><path d=\"M17.41 7.96l-1.37-1.37c-.4-.4-.92-.59-1.43-.59-.52 0-1.04.2-1.43.59L10.3 9.45l-7.72 7.72c-.78.78-.78 2.05 0 2.83L4 21.41c.39.39.9.59 1.41.59.51 0 1.02-.2 1.41-.59l7.78-7.78 2.81-2.81c.8-.78.8-2.07 0-2.86zM5.41 20L4 18.59l7.72-7.72 1.47 1.35L5.41 20z\"/>\n",
              "  </svg>\n",
              "      </button>\n",
              "      \n",
              "  <style>\n",
              "    .colab-df-container {\n",
              "      display:flex;\n",
              "      flex-wrap:wrap;\n",
              "      gap: 12px;\n",
              "    }\n",
              "\n",
              "    .colab-df-convert {\n",
              "      background-color: #E8F0FE;\n",
              "      border: none;\n",
              "      border-radius: 50%;\n",
              "      cursor: pointer;\n",
              "      display: none;\n",
              "      fill: #1967D2;\n",
              "      height: 32px;\n",
              "      padding: 0 0 0 0;\n",
              "      width: 32px;\n",
              "    }\n",
              "\n",
              "    .colab-df-convert:hover {\n",
              "      background-color: #E2EBFA;\n",
              "      box-shadow: 0px 1px 2px rgba(60, 64, 67, 0.3), 0px 1px 3px 1px rgba(60, 64, 67, 0.15);\n",
              "      fill: #174EA6;\n",
              "    }\n",
              "\n",
              "    [theme=dark] .colab-df-convert {\n",
              "      background-color: #3B4455;\n",
              "      fill: #D2E3FC;\n",
              "    }\n",
              "\n",
              "    [theme=dark] .colab-df-convert:hover {\n",
              "      background-color: #434B5C;\n",
              "      box-shadow: 0px 1px 3px 1px rgba(0, 0, 0, 0.15);\n",
              "      filter: drop-shadow(0px 1px 2px rgba(0, 0, 0, 0.3));\n",
              "      fill: #FFFFFF;\n",
              "    }\n",
              "  </style>\n",
              "\n",
              "      <script>\n",
              "        const buttonEl =\n",
              "          document.querySelector('#df-df0c21ef-40a8-49c3-ac6d-f78a82cc6292 button.colab-df-convert');\n",
              "        buttonEl.style.display =\n",
              "          google.colab.kernel.accessAllowed ? 'block' : 'none';\n",
              "\n",
              "        async function convertToInteractive(key) {\n",
              "          const element = document.querySelector('#df-df0c21ef-40a8-49c3-ac6d-f78a82cc6292');\n",
              "          const dataTable =\n",
              "            await google.colab.kernel.invokeFunction('convertToInteractive',\n",
              "                                                     [key], {});\n",
              "          if (!dataTable) return;\n",
              "\n",
              "          const docLinkHtml = 'Like what you see? Visit the ' +\n",
              "            '<a target=\"_blank\" href=https://colab.research.google.com/notebooks/data_table.ipynb>data table notebook</a>'\n",
              "            + ' to learn more about interactive tables.';\n",
              "          element.innerHTML = '';\n",
              "          dataTable['output_type'] = 'display_data';\n",
              "          await google.colab.output.renderOutput(dataTable, element);\n",
              "          const docLink = document.createElement('div');\n",
              "          docLink.innerHTML = docLinkHtml;\n",
              "          element.appendChild(docLink);\n",
              "        }\n",
              "      </script>\n",
              "    </div>\n",
              "  </div>\n",
              "  "
            ],
            "text/plain": [
              "            Product                                     Issue  \\\n",
              "0  Credit reporting    Incorrect information on credit report   \n",
              "1   Debt collection           Disclosure verification of debt   \n",
              "2       Credit card                                     Other   \n",
              "3          Mortgage  Loan modification,collection,foreclosure   \n",
              "4       Credit card                      Credit determination   \n",
              "\n",
              "                         Company State ZIP_code Consumer_consent_provided?  \\\n",
              "0           EXPERIAN DELAWARE GP    TX    77075           Consent provided   \n",
              "1  Security Credit Services, LLC    IL    60643           Consent provided   \n",
              "2                 CITIBANK, N.A.    IL    62025           Consent provided   \n",
              "3       Shellpoint Partners, LLC    CA    90305           Consent provided   \n",
              "4                   U.S. BANCORP    LA    70571           Consent provided   \n",
              "\n",
              "  Submitted_via Date_sent_to_company     Company_response_to_consumer  \\\n",
              "0         Phone           03/21/2017  Closed with non-monetary relief   \n",
              "1           Web           04/20/2017          Closed with explanation   \n",
              "2      Referral           04/20/2017          Closed with explanation   \n",
              "3      Referral           04/14/2017          Closed with explanation   \n",
              "4   Postal mail           04/21/2017          Closed with explanation   \n",
              "\n",
              "  Timely_response? Consumer_disputed?  \n",
              "0              Yes                 No  \n",
              "1              Yes                 No  \n",
              "2              Yes                 No  \n",
              "3              Yes                 No  \n",
              "4              Yes                 No  "
            ]
          },
          "execution_count": 5,
          "metadata": {},
          "output_type": "execute_result"
        }
      ],
      "source": [
        "df.head()"
      ],
      "id": "f070fe0d-9181-4acb-8b0d-e4f56d8a76f0"
    },
    {
      "cell_type": "markdown",
      "metadata": {
        "id": "1fb4f6ab-d1b2-4a61-afa2-d2da8a950347"
      },
      "source": [
        "### Data Preparation"
      ],
      "id": "1fb4f6ab-d1b2-4a61-afa2-d2da8a950347"
    },
    {
      "cell_type": "markdown",
      "metadata": {
        "id": "Pf_UWdN3cvi4"
      },
      "source": [
        "##### Feature Engineering"
      ],
      "id": "Pf_UWdN3cvi4"
    },
    {
      "cell_type": "code",
      "execution_count": null,
      "metadata": {
        "id": "THOegvgwctyF"
      },
      "outputs": [],
      "source": [
        "df['Date_sent_to_company'] = pd.to_datetime(df['Date_sent_to_company'])\n",
        "df['Year'] = df['Date_sent_to_company'].dt.year"
      ],
      "id": "THOegvgwctyF"
    },
    {
      "cell_type": "code",
      "execution_count": null,
      "metadata": {
        "id": "109e3ab4-4e18-4b9c-9837-0afd6a645fda"
      },
      "outputs": [],
      "source": [
        "#encoding\n",
        "df['Consumer_disputed?'] = df['Consumer_disputed?'].replace({\"Yes\": 1, \"No\": 0})\n",
        "df['Timely_response?'] = df['Timely_response?'].replace({\"Yes\": 1, \"No\": 0})\n",
        "\n",
        "#dropping columns\n",
        "df.drop(columns=[\"ZIP_code\", \"Date_sent_to_company\", \"Company\", \"State\"], inplace=True)"
      ],
      "id": "109e3ab4-4e18-4b9c-9837-0afd6a645fda"
    },
    {
      "cell_type": "markdown",
      "metadata": {
        "id": "KCBHwoaqMT6b"
      },
      "source": [],
      "id": "KCBHwoaqMT6b"
    },
    {
      "cell_type": "code",
      "execution_count": null,
      "metadata": {
        "id": "vEk9Q8gESyJQ"
      },
      "outputs": [],
      "source": [
        "categorical = [col for col in df.columns if df[col].dtype != 'int64']\n",
        "numerical = [col for col in df.columns if df[col].dtype == 'int64']\n",
        "numerical.remove(\"Consumer_disputed?\")\n"
      ],
      "id": "vEk9Q8gESyJQ"
    },
    {
      "cell_type": "markdown",
      "metadata": {
        "id": "t_4OsLJJMkYS"
      },
      "source": [],
      "id": "t_4OsLJJMkYS"
    },
    {
      "cell_type": "markdown",
      "metadata": {
        "id": "MoaZ4UxHd3ZR"
      },
      "source": [
        "#### Splitting the data\n"
      ],
      "id": "MoaZ4UxHd3ZR"
    },
    {
      "cell_type": "code",
      "execution_count": null,
      "metadata": {
        "id": "5141d6cf-dfc1-4ff1-a331-ef4d82b66deb"
      },
      "outputs": [],
      "source": [
        "features, target = (df[categorical + numerical], df['Consumer_disputed?'])\n",
        "df_full_train, df_test, y_full_train, y_test = train_test_split(features, target, test_size=0.2, random_state=42)\n",
        "df_train, df_val, y_train, y_val = train_test_split(df_full_train, y_full_train, test_size=0.25, random_state=42)\n",
        "\n",
        "#  = df_full_train['Consumer_disputed?'].values\n",
        "# y_train = df_train['Consumer_disputed?'].values\n",
        "\n",
        "# y_test = df_test['Consumer_disputed?'].values"
      ],
      "id": "5141d6cf-dfc1-4ff1-a331-ef4d82b66deb"
    },
    {
      "cell_type": "markdown",
      "metadata": {
        "id": "6XqFko14dgVJ"
      },
      "source": [
        "### Visualizing Target Variable"
      ],
      "id": "6XqFko14dgVJ"
    },
    {
      "cell_type": "code",
      "execution_count": null,
      "metadata": {
        "colab": {
          "base_uri": "https://localhost:8080/",
          "height": 517
        },
        "id": "BUCkH7lWdfan",
        "outputId": "383b15d2-3f7d-48ce-c853-74526fb1b858"
      },
      "outputs": [
        {
          "data": {
            "text/plain": [
              "[Text(0.5, 0, 'Consumer_disputed?'),\n",
              " Text(0.5, 1.0, 'Distribution of Consumer Disputed')]"
            ]
          },
          "execution_count": 10,
          "metadata": {},
          "output_type": "execute_result"
        },
        {
          "data": {
            "image/png": "[encoded data removed]",
            "text/plain": [
              "<Figure size 500x500 with 1 Axes>"
            ]
          },
          "metadata": {},
          "output_type": "display_data"
        }
      ],
      "source": [
        "plt.figure(figsize=(5,5))\n",
        "sns.set_style('darkgrid')\n",
        "ax = y_train.value_counts().plot(kind=\"bar\")\n",
        "ax.set(xlabel=\"Consumer_disputed?\", title=\"Distribution of Consumer Disputed\")"
      ],
      "id": "BUCkH7lWdfan"
    },
    {
      "cell_type": "markdown",
      "metadata": {
        "id": "IvplOXFfBfqz"
      },
      "source": [
        "### Handling Class Imbalance"
      ],
      "id": "IvplOXFfBfqz"
    },
    {
      "cell_type": "code",
      "execution_count": null,
      "metadata": {
        "id": "SvVZx4aRL8QD"
      },
      "outputs": [],
      "source": [
        "#instantiating a class of random oversampler\n",
        "oversampler = RandomOverSampler(random_state=1)\n",
        "\n",
        "#creating oversampled training and testing sets\n",
        "df_train, y_train = oversampler.fit_resample(df_train, y_train)\n",
        "\n",
        "df_val, y_val = oversampler.fit_resample(df_val, y_val)"
      ],
      "id": "SvVZx4aRL8QD"
    },
    {
      "cell_type": "code",
      "execution_count": null,
      "metadata": {
        "id": "DTT1LqwvBdTb"
      },
      "outputs": [],
      "source": [
        "# from collections import Counter\n",
        "# print(f\"Target variable before resampling: {Counter(y_train)}\")\n",
        "# print(f\"Target variable after resampling: {Counter(y_train_over)}\")"
      ],
      "id": "DTT1LqwvBdTb"
    },
    {
      "cell_type": "code",
      "execution_count": null,
      "metadata": {
        "colab": {
          "base_uri": "https://localhost:8080/",
          "height": 517
        },
        "id": "TBGWpfrJctqh",
        "outputId": "2713498c-f2d1-4a2c-a85d-9fe1530102c8"
      },
      "outputs": [
        {
          "output_type": "execute_result",
          "data": {
            "text/plain": [
              "[Text(0.5, 0, 'Consumer_disputed?'),\n",
              " Text(0.5, 1.0, 'Distribution of Consumer Disputed After Sampling')]"
            ]
          },
          "metadata": {},
          "execution_count": 11
        },
        {
          "output_type": "display_data",
          "data": {
            "text/plain": [
              "<Figure size 500x500 with 1 Axes>"
            ],
            "image/png": "[encoded data removed]"
          },
          "metadata": {}
        }
      ],
      "source": [
        "plt.figure(figsize=(5,5))\n",
        "sns.set_style('darkgrid')\n",
        "ax = y_train.value_counts().plot(kind=\"bar\")\n",
        "ax.set(xlabel=\"Consumer_disputed?\", title=\"Distribution of Consumer Disputed After Sampling\")"
      ],
      "id": "TBGWpfrJctqh"
    },
    {
      "cell_type": "code",
      "execution_count": null,
      "metadata": {
        "id": "0MAOa6tVwPMt"
      },
      "outputs": [],
      "source": [
        "def chi_square_test(series):\n",
        "  \"\"\"\n",
        "  This function computes the p-value from the\n",
        "  contingency table of two variables\n",
        "  params: pandas series\n",
        "  returns: p-value\n",
        "  rtype: float\n",
        "  \"\"\"\n",
        "  table = pd.crosstab(y_train, series)\n",
        "  stats, p_val, dof, expected_table = chi2_contingency(table)\n",
        "  return p_val"
      ],
      "id": "0MAOa6tVwPMt"
    },
    {
      "cell_type": "code",
      "execution_count": null,
      "metadata": {
        "id": "kGIpSkmPpG3U"
      },
      "outputs": [],
      "source": [
        "def corr(series):\n",
        "  \"\"\"\n",
        "  This function calculates the correlation value between two columns\n",
        "  params: pandas series\n",
        "  returns: correlation value\n",
        "  rtype: float\n",
        "  \"\"\"\n",
        "  return y_train.corr(series)"
      ],
      "id": "kGIpSkmPpG3U"
    },
    {
      "cell_type": "code",
      "execution_count": null,
      "metadata": {
        "id": "p2CHoiE0y8_y"
      },
      "outputs": [],
      "source": [
        "def calculate_mi(series):\n",
        "  \"\"\"\n",
        "  This function calculates the mutual info score between the target column and a specified categorical column\n",
        "  params: categorical column\n",
        "  returns: mutual info score\n",
        "  rtype: float\n",
        "  \"\"\"\n",
        "  mi = mutual_info_score(y_train, series)\n",
        "  return mi"
      ],
      "id": "p2CHoiE0y8_y"
    },
    {
      "cell_type": "code",
      "execution_count": null,
      "metadata": {
        "colab": {
          "base_uri": "https://localhost:8080/"
        },
        "id": "qM1-0s3uy9Yt",
        "outputId": "17640d9e-07fb-4732-d552-2451f2985470"
      },
      "outputs": [
        {
          "output_type": "execute_result",
          "data": {
            "text/plain": [
              "Product                         0.005120\n",
              "Issue                           0.009195\n",
              "Consumer_consent_provided?      0.000037\n",
              "Submitted_via                   0.004015\n",
              "Company_response_to_consumer    0.012175\n",
              "dtype: float64"
            ]
          },
          "metadata": {},
          "execution_count": 15
        }
      ],
      "source": [
        "#chi square test on categorical columns\n",
        "df_train[categorical].apply(calculate_mi)"
      ],
      "id": "qM1-0s3uy9Yt"
    },
    {
      "cell_type": "code",
      "execution_count": null,
      "metadata": {
        "colab": {
          "base_uri": "https://localhost:8080/"
        },
        "id": "c7-kWBK80uRX",
        "outputId": "2ccdece3-2873-4d28-85f4-7f4b228c9613"
      },
      "outputs": [
        {
          "output_type": "execute_result",
          "data": {
            "text/plain": [
              "Consumer_consent_provided?      2.695282e-09\n",
              "Product                         0.000000e+00\n",
              "Issue                           0.000000e+00\n",
              "Submitted_via                   0.000000e+00\n",
              "Company_response_to_consumer    0.000000e+00\n",
              "dtype: float64"
            ]
          },
          "metadata": {},
          "execution_count": 16
        }
      ],
      "source": [
        "df_train[categorical].apply(chi_square_test).sort_values(ascending=False)"
      ],
      "id": "c7-kWBK80uRX"
    },
    {
      "cell_type": "code",
      "execution_count": null,
      "metadata": {
        "colab": {
          "base_uri": "https://localhost:8080/"
        },
        "id": "pONOUSdWzAHv",
        "outputId": "50f9e658-8059-4bea-cb42-6c7473909847"
      },
      "outputs": [
        {
          "output_type": "execute_result",
          "data": {
            "text/plain": [
              "Timely_response?    0.040934\n",
              "Year               -0.095872\n",
              "dtype: float64"
            ]
          },
          "metadata": {},
          "execution_count": 17
        }
      ],
      "source": [
        "#correlation test on numerical columns\n",
        "df_train[numerical].apply(corr)"
      ],
      "id": "pONOUSdWzAHv"
    },
    {
      "cell_type": "code",
      "execution_count": null,
      "metadata": {
        "id": "iTksNBz4eKbZ"
      },
      "outputs": [],
      "source": [
        "#Transforming Data splits with one hot encoding\n",
        "train_dict = df_train.to_dict(orient=\"records\")\n",
        "dv = DictVectorizer()\n",
        "X_train = dv.fit_transform(train_dict)\n",
        "\n",
        "val_dict = df_val[categorical + numerical].to_dict(orient=\"records\")\n",
        "X_val = dv.transform(val_dict)"
      ],
      "id": "iTksNBz4eKbZ"
    },
    {
      "cell_type": "markdown",
      "metadata": {
        "id": "oYsr0tFbeisQ"
      },
      "source": [
        "#### Random Forest"
      ],
      "id": "oYsr0tFbeisQ"
    },
    {
      "cell_type": "code",
      "execution_count": null,
      "metadata": {
        "colab": {
          "base_uri": "https://localhost:8080/"
        },
        "id": "ygm1z0AfPoJG",
        "outputId": "58fab1b3-60ab-464d-94d7-1790d86a4501"
      },
      "outputs": [
        {
          "name": "stdout",
          "output_type": "stream",
          "text": [
            " The validation auc is 0.5878110275274862\n"
          ]
        }
      ],
      "source": [
        "#creating an instance of the random forest classifier\n",
        "rf = RandomForestClassifier(random_state=11)\n",
        "\n",
        "#fitting model to data\n",
        "rf.fit(X_train, y_train)\n",
        "\n",
        "y_pred_rf = rf.predict(X_val)\n",
        "\n",
        "#Evaluating the random forest model\n",
        "print(f\" The validation auc is {roc_auc_score(y_val, y_pred_rf)}\")"
      ],
      "id": "ygm1z0AfPoJG"
    },
    {
      "cell_type": "code",
      "execution_count": null,
      "metadata": {
        "colab": {
          "base_uri": "https://localhost:8080/"
        },
        "id": "o9eOU1-UWs72",
        "outputId": "9937a057-e6b6-4a8f-e417-d80fa19c7b54"
      },
      "outputs": [
        {
          "name": "stdout",
          "output_type": "stream",
          "text": [
            "              precision    recall  f1-score   support\n",
            "\n",
            "           0       0.61      0.50      0.55     96776\n",
            "           1       0.57      0.68      0.62     96776\n",
            "\n",
            "    accuracy                           0.59    193552\n",
            "   macro avg       0.59      0.59      0.58    193552\n",
            "weighted avg       0.59      0.59      0.58    193552\n",
            "\n"
          ]
        }
      ],
      "source": [
        "#classification report\n",
        "print(classification_report(y_val, y_pred_rf))"
      ],
      "id": "o9eOU1-UWs72"
    },
    {
      "cell_type": "code",
      "execution_count": null,
      "metadata": {
        "colab": {
          "base_uri": "https://localhost:8080/"
        },
        "id": "Zss0eT8J03rW",
        "outputId": "92f09cb4-9b95-4a3e-c5ac-a128f880b449"
      },
      "outputs": [
        {
          "name": "stdout",
          "output_type": "stream",
          "text": [
            "Company_response_to_consumer    0.012175\n",
            "Issue                           0.009195\n",
            "Product                         0.005120\n",
            "Submitted_via                   0.004015\n",
            "Consumer_consent_provided?      0.000037\n",
            "dtype: float64\n"
          ]
        }
      ],
      "source": [
        "print(df_train[categorical].apply(calculate_mi).sort_values(ascending=False))\n",
        "# df_train.dtypes"
      ],
      "id": "Zss0eT8J03rW"
    },
    {
      "cell_type": "code",
      "execution_count": null,
      "metadata": {
        "id": "OnFTQffXVR0O"
      },
      "outputs": [],
      "source": [
        "cat_columns = ['Company_response_to_consumer', 'Issue', 'Product', 'Submitted_via', 'Consumer_consent_provided?']\n",
        "columns = cat_columns + numerical"
      ],
      "id": "OnFTQffXVR0O"
    },
    {
      "cell_type": "markdown",
      "metadata": {
        "id": "GOgTGe9iU9x0"
      },
      "source": [
        "#### Backward Selection"
      ],
      "id": "GOgTGe9iU9x0"
    },
    {
      "cell_type": "code",
      "execution_count": null,
      "metadata": {
        "colab": {
          "base_uri": "https://localhost:8080/"
        },
        "id": "6IYvC7OqAFcn",
        "outputId": "cbfd9ded-678b-4c73-b00e-128a4bec9ecb"
      },
      "outputs": [
        {
          "name": "stdout",
          "output_type": "stream",
          "text": [
            "omitted column:Company_response_to_consumer auc_score:0.5715663556479644\n",
            "omitted column:Issue auc_score:0.5899592219656985\n",
            "omitted column:Product auc_score:0.5875880222923532\n",
            "omitted column:Submitted_via auc_score:0.579080072648547\n",
            "omitted column:Consumer_consent_provided? auc_score:0.5908094990973933\n",
            "omitted column:Timely_response? auc_score:0.5852336950342248\n",
            "omitted column:Year auc_score:0.5845048952007845\n"
          ]
        }
      ],
      "source": [
        "for col in columns:\n",
        "  cols = columns.copy()\n",
        "  cols.remove(col)\n",
        "  train_dict = df_train[cols].to_dict(orient='records')\n",
        "  dv = DictVectorizer()\n",
        "  X_train = dv.fit_transform(train_dict)\n",
        "  val_dict = df_val[cols].to_dict(orient='records')\n",
        "  X_val = dv.transform(val_dict)\n",
        "\n",
        "  rf = RandomForestClassifier(random_state=11)\n",
        "  rf.fit(X_train, y_train)\n",
        "  y_pred_rf = rf.predict(X_val)\n",
        "  score = roc_auc_score(y_val, y_pred_rf)\n",
        "  print(f\"omitted column:{col} auc_score:{score}\")"
      ],
      "id": "6IYvC7OqAFcn"
    },
    {
      "cell_type": "code",
      "execution_count": null,
      "metadata": {
        "colab": {
          "base_uri": "https://localhost:8080/"
        },
        "id": "YAu5BkQ2tax9",
        "outputId": "db57facf-a1ae-4ee3-deeb-56e500907b49"
      },
      "outputs": [
        {
          "name": "stdout",
          "output_type": "stream",
          "text": [
            "columns trained on:['Company_response_to_consumer'] auc_score:0.5527929658958567\n",
            "columns trained on:['Company_response_to_consumer', 'Issue'] auc_score:0.5732353729767196\n",
            "columns trained on:['Company_response_to_consumer', 'Issue', 'Product'] auc_score:0.574432222971265\n",
            "columns trained on:['Company_response_to_consumer', 'Issue', 'Product', 'Submitted_via'] auc_score:0.5833998605177935\n",
            "columns trained on:['Company_response_to_consumer', 'Issue', 'Product', 'Submitted_via', 'Consumer_consent_provided?'] auc_score:0.5830620449362165\n",
            "columns trained on:['Company_response_to_consumer', 'Issue', 'Product', 'Submitted_via', 'Consumer_consent_provided?', 'Timely_response?'] auc_score:0.5845048952007845\n",
            "columns trained on:['Company_response_to_consumer', 'Issue', 'Product', 'Submitted_via', 'Consumer_consent_provided?', 'Timely_response?', 'Year'] auc_score:0.5868953675236731\n"
          ]
        }
      ],
      "source": [
        "new_cols = []\n",
        "for col in columns:\n",
        "  new_cols.append(col)\n",
        "  train_dict = df_train[new_cols].to_dict(orient='records')\n",
        "  dv = DictVectorizer()\n",
        "  X_train = dv.fit_transform(train_dict)\n",
        "  val_dict = df_val[new_cols].to_dict(orient='records')\n",
        "  X_val = dv.transform(val_dict)\n",
        "\n",
        "  rf = RandomForestClassifier(random_state=11)\n",
        "  rf.fit(X_train, y_train)\n",
        "  y_pred_rf = rf.predict(X_val)\n",
        "  score = roc_auc_score(y_val, y_pred_rf)\n",
        "  print(f\"columns trained on:{new_cols} auc_score:{score}\")\n"
      ],
      "id": "YAu5BkQ2tax9"
    },
    {
      "cell_type": "code",
      "execution_count": null,
      "metadata": {
        "colab": {
          "base_uri": "https://localhost:8080/"
        },
        "id": "1FJqpqOkxJNt",
        "outputId": "bc1a1f5f-f3b0-4e4d-dc82-c8903aeb061d"
      },
      "outputs": [
        {
          "name": "stdout",
          "output_type": "stream",
          "text": [
            "10 -> 0.586\n",
            "20 -> 0.586\n",
            "30 -> 0.586\n",
            "40 -> 0.586\n",
            "50 -> 0.587\n",
            "60 -> 0.587\n",
            "70 -> 0.587\n",
            "80 -> 0.587\n",
            "90 -> 0.587\n",
            "100 -> 0.587\n",
            "110 -> 0.587\n",
            "120 -> 0.587\n",
            "130 -> 0.587\n",
            "140 -> 0.587\n",
            "150 -> 0.587\n",
            "160 -> 0.587\n",
            "170 -> 0.587\n",
            "180 -> 0.587\n",
            "190 -> 0.587\n",
            "200 -> 0.587\n"
          ]
        }
      ],
      "source": [
        "#Tuning random forests\n",
        "scores = []\n",
        "for i in range(10, 201, 10):\n",
        "  rf = RandomForestClassifier(n_estimators = i, random_state=11)\n",
        "  rf.fit(X_train, y_train)\n",
        "  y_pred_rf = rf.predict(X_val)\n",
        "  auc = roc_auc_score(y_val, y_pred_rf)\n",
        "  print('%s -> %.3f' % (i, auc))\n",
        "  scores.append(auc)\n",
        "\n",
        "\n"
      ],
      "id": "1FJqpqOkxJNt"
    },
    {
      "cell_type": "code",
      "execution_count": null,
      "metadata": {
        "colab": {
          "background_save": true,
          "base_uri": "https://localhost:8080/"
        },
        "id": "pZoClalFRLro",
        "outputId": "f8b9ff4d-faad-4a54-a818-066e003de945"
      },
      "outputs": [
        {
          "name": "stdout",
          "output_type": "stream",
          "text": [
            "depth: 5\n",
            "10 -> 0.582\n",
            "20 -> 0.588\n",
            "30 -> 0.589\n",
            "40 -> 0.590\n",
            "50 -> 0.589\n",
            "60 -> 0.590\n",
            "70 -> 0.589\n",
            "80 -> 0.590\n",
            "90 -> 0.590\n",
            "100 -> 0.589\n",
            "110 -> 0.590\n",
            "120 -> 0.590\n",
            "130 -> 0.590\n",
            "140 -> 0.590\n",
            "150 -> 0.590\n",
            "160 -> 0.590\n",
            "170 -> 0.590\n",
            "180 -> 0.589\n",
            "190 -> 0.588\n",
            "200 -> 0.589\n",
            "depth: 10\n",
            "10 -> 0.594\n",
            "20 -> 0.594\n",
            "30 -> 0.593\n",
            "40 -> 0.594\n",
            "50 -> 0.594\n",
            "60 -> 0.595\n",
            "70 -> 0.594\n",
            "80 -> 0.595\n",
            "90 -> 0.595\n",
            "100 -> 0.595\n",
            "110 -> 0.595\n",
            "120 -> 0.595\n",
            "130 -> 0.595\n",
            "140 -> 0.595\n",
            "150 -> 0.595\n",
            "160 -> 0.595\n",
            "170 -> 0.595\n",
            "180 -> 0.595\n",
            "190 -> 0.595\n",
            "200 -> 0.595\n",
            "depth: 20\n",
            "10 -> 0.592\n",
            "20 -> 0.593\n",
            "30 -> 0.593\n",
            "40 -> 0.593\n",
            "50 -> 0.594\n",
            "60 -> 0.593\n",
            "70 -> 0.593\n",
            "80 -> 0.593\n",
            "90 -> 0.593\n",
            "100 -> 0.593\n",
            "110 -> 0.593\n",
            "120 -> 0.593\n",
            "130 -> 0.593\n",
            "140 -> 0.594\n",
            "150 -> 0.594\n",
            "160 -> 0.594\n",
            "170 -> 0.594\n",
            "180 -> 0.594\n",
            "190 -> 0.594\n",
            "200 -> 0.594\n"
          ]
        }
      ],
      "source": [
        "#Tuning random forests\n",
        "depths = [5, 10, 20]\n",
        "for d in depths:\n",
        "  print(f\"depth: {d}\")\n",
        "  for i in range(10, 201, 10):\n",
        "    rf = RandomForestClassifier(n_estimators = i, max_depth = d, random_state=11)\n",
        "    rf.fit(X_train, y_train)\n",
        "    y_pred_rf = rf.predict(X_val)\n",
        "    auc = roc_auc_score(y_val, y_pred_rf)\n",
        "    print('%s -> %.3f' % (i, auc))\n",
        "    # scores.append(auc)\n",
        "\n",
        "\n"
      ],
      "id": "pZoClalFRLro"
    },
    {
      "cell_type": "code",
      "execution_count": null,
      "metadata": {
        "colab": {
          "base_uri": "https://localhost:8080/",
          "height": 542
        },
        "id": "-j1AZ0JJfjeH",
        "outputId": "c1f76761-6aa7-4818-b337-0a77dca62ff4"
      },
      "outputs": [
        {
          "data": {
            "text/plain": [
              "[Text(0.5, 25.722222222222214, 'Predicted Values'),\n",
              " Text(33.22222222222222, 0.5, 'Actual Values'),\n",
              " Text(0.5, 1.0, 'RAndom Forest Confusion Matrix')]"
            ]
          },
          "execution_count": 37,
          "metadata": {},
          "output_type": "execute_result"
        },
        {
          "data": {
            "image/png": "[encoded data removed]",
            "text/plain": [
              "<Figure size 500x500 with 2 Axes>"
            ]
          },
          "metadata": {},
          "output_type": "display_data"
        }
      ],
      "source": [
        "#Confusion Matrix\n",
        "plt.figure(figsize = (5,5))\n",
        "cm_rf = confusion_matrix(y_val, y_pred_rf)\n",
        "ax = sns.heatmap(cm_rf, annot=True, fmt=\"d\", cmap=\"viridis\")\n",
        "ax.set(xlabel=\"Predicted Values\", ylabel=\"Actual Values\", title=\"RAndom Forest Confusion Matrix\")"
      ],
      "id": "-j1AZ0JJfjeH"
    },
    {
      "cell_type": "markdown",
      "metadata": {
        "id": "j8aXK43ixFSP"
      },
      "source": [
        "### XGBoost"
      ],
      "id": "j8aXK43ixFSP"
    },
    {
      "cell_type": "code",
      "execution_count": null,
      "metadata": {
        "colab": {
          "base_uri": "https://localhost:8080/"
        },
        "id": "pd9nH3rAfjSp",
        "outputId": "1085a104-e5ce-4039-de9d-f9d603adbd0a"
      },
      "outputs": [
        {
          "data": {
            "text/plain": [
              "['Product',\n",
              " 'Issue',\n",
              " 'Consumer_consent_provided?',\n",
              " 'Submitted_via',\n",
              " 'Company_response_to_consumer']"
            ]
          },
          "execution_count": 65,
          "metadata": {},
          "output_type": "execute_result"
        }
      ],
      "source": [
        "dtrain = xgb.DMatrix(X_train, label=y_train, feature_names= dv.feature_names_)\n",
        "dval = xgb.DMatrix(X_val, label=y_val, feature_names= dv.feature_names_)"
      ],
      "id": "pd9nH3rAfjSp"
    },
    {
      "cell_type": "code",
      "execution_count": null,
      "metadata": {
        "id": "_nAx1chefjM5",
        "colab": {
          "base_uri": "https://localhost:8080/",
          "height": 235
        },
        "outputId": "82cf4555-25cf-4f6a-897a-fdeb9078dae9"
      },
      "outputs": [
        {
          "output_type": "error",
          "ename": "NameError",
          "evalue": "ignored",
          "traceback": [
            "\u001b[0;31m---------------------------------------------------------------------------\u001b[0m",
            "\u001b[0;31mNameError\u001b[0m                                 Traceback (most recent call last)",
            "\u001b[0;32m<ipython-input-1-f66d9e684cc4>\u001b[0m in \u001b[0;36m<cell line: 2>\u001b[0;34m()\u001b[0m\n\u001b[1;32m      1\u001b[0m \u001b[0;31m#instantiating model\u001b[0m\u001b[0;34m\u001b[0m\u001b[0;34m\u001b[0m\u001b[0m\n\u001b[0;32m----> 2\u001b[0;31m \u001b[0mxgb_clf\u001b[0m \u001b[0;34m=\u001b[0m \u001b[0mxgb\u001b[0m\u001b[0;34m.\u001b[0m\u001b[0mXGBClassifier\u001b[0m\u001b[0;34m(\u001b[0m\u001b[0mbooster\u001b[0m\u001b[0;34m=\u001b[0m\u001b[0;34m\"gbtree\"\u001b[0m\u001b[0;34m,\u001b[0m \u001b[0mrandom_state\u001b[0m\u001b[0;34m=\u001b[0m\u001b[0;36m11\u001b[0m\u001b[0;34m)\u001b[0m\u001b[0;34m\u001b[0m\u001b[0;34m\u001b[0m\u001b[0m\n\u001b[0m\u001b[1;32m      3\u001b[0m \u001b[0;34m\u001b[0m\u001b[0m\n\u001b[1;32m      4\u001b[0m \u001b[0mxgb_clf\u001b[0m\u001b[0;34m.\u001b[0m\u001b[0mfit\u001b[0m\u001b[0;34m(\u001b[0m\u001b[0mX_train\u001b[0m\u001b[0;34m,\u001b[0m \u001b[0my_train\u001b[0m\u001b[0;34m)\u001b[0m\u001b[0;34m\u001b[0m\u001b[0;34m\u001b[0m\u001b[0m\n\u001b[1;32m      5\u001b[0m \u001b[0;34m\u001b[0m\u001b[0m\n",
            "\u001b[0;31mNameError\u001b[0m: name 'xgb' is not defined"
          ]
        }
      ],
      "source": [
        "#instantiating model\n",
        "xgb_clf = xgb.XGBClassifier(booster=\"gbtree\", random_state=11)\n",
        "\n",
        "xgb_clf.fit(X_train, y_train)\n",
        "\n",
        "y_pred_xgb = xgb_clf.predict(X_val)\n",
        "\n",
        "roc_auc_score(y_val, y_pred_xgb)"
      ],
      "id": "_nAx1chefjM5"
    },
    {
      "cell_type": "code",
      "execution_count": null,
      "metadata": {
        "id": "AAwirmRI0m2J"
      },
      "outputs": [],
      "source": [
        "xgb_params = {\n",
        "    'eta': 0.3,\n",
        "    'max_depth': 6,\n",
        "    'min_child_weight': 1,\n",
        "\n",
        "    'objective': 'binary:logistic',\n",
        "    'nthread': 8,\n",
        "    'seed': 1\n",
        "}"
      ],
      "id": "AAwirmRI0m2J"
    },
    {
      "cell_type": "code",
      "execution_count": null,
      "metadata": {
        "colab": {
          "base_uri": "https://localhost:8080/"
        },
        "id": "bpuZn5u30mNy",
        "outputId": "d6aa8e7c-2591-4d4a-c7ba-6cc547a5fd7e"
      },
      "outputs": [
        {
          "data": {
            "text/plain": [
              "0.6319018215807005"
            ]
          },
          "execution_count": 34,
          "metadata": {},
          "output_type": "execute_result"
        }
      ],
      "source": [
        "xgb_clf = xgb.train(xgb_params, dtrain)\n",
        "y_pred_xgb = xgb_clf.predict(dval)\n",
        "roc_auc_score(y_val, y_pred_xgb)\n"
      ],
      "id": "bpuZn5u30mNy"
    },
    {
      "cell_type": "code",
      "execution_count": null,
      "metadata": {
        "colab": {
          "base_uri": "https://localhost:8080/"
        },
        "id": "ZAjfp6BC6sJH",
        "outputId": "61be058e-0fdb-42ef-c7a4-95ee45eda275"
      },
      "outputs": [
        {
          "name": "stdout",
          "output_type": "stream",
          "text": [
            "[0]\ttrain-auc:0.63615\tval-auc:0.62564\n",
            "[10]\ttrain-auc:0.64822\tval-auc:0.63164\n",
            "[20]\ttrain-auc:0.65311\tval-auc:0.63195\n",
            "[30]\ttrain-auc:0.65603\tval-auc:0.63149\n",
            "[40]\ttrain-auc:0.65836\tval-auc:0.63109\n",
            "[50]\ttrain-auc:0.66139\tval-auc:0.63027\n",
            "[60]\ttrain-auc:0.66278\tval-auc:0.62975\n",
            "[70]\ttrain-auc:0.66385\tval-auc:0.62929\n",
            "[80]\ttrain-auc:0.66499\tval-auc:0.62896\n",
            "[90]\ttrain-auc:0.66641\tval-auc:0.62835\n",
            "[100]\ttrain-auc:0.66739\tval-auc:0.62783\n",
            "[110]\ttrain-auc:0.66856\tval-auc:0.62715\n",
            "[120]\ttrain-auc:0.66933\tval-auc:0.62679\n",
            "[130]\ttrain-auc:0.67007\tval-auc:0.62658\n",
            "[140]\ttrain-auc:0.67081\tval-auc:0.62609\n",
            "[150]\ttrain-auc:0.67107\tval-auc:0.62576\n",
            "[160]\ttrain-auc:0.67147\tval-auc:0.62548\n",
            "[170]\ttrain-auc:0.67188\tval-auc:0.62535\n",
            "[180]\ttrain-auc:0.67274\tval-auc:0.62504\n",
            "[190]\ttrain-auc:0.67318\tval-auc:0.62455\n",
            "[200]\ttrain-auc:0.67349\tval-auc:0.62438\n",
            "[210]\ttrain-auc:0.67365\tval-auc:0.62421\n",
            "[220]\ttrain-auc:0.67387\tval-auc:0.62403\n",
            "[230]\ttrain-auc:0.67427\tval-auc:0.62370\n",
            "[240]\ttrain-auc:0.67452\tval-auc:0.62357\n",
            "[250]\ttrain-auc:0.67487\tval-auc:0.62336\n",
            "[260]\ttrain-auc:0.67494\tval-auc:0.62329\n",
            "[270]\ttrain-auc:0.67512\tval-auc:0.62316\n",
            "[280]\ttrain-auc:0.67528\tval-auc:0.62298\n",
            "[290]\ttrain-auc:0.67534\tval-auc:0.62294\n",
            "[300]\ttrain-auc:0.67544\tval-auc:0.62283\n",
            "[310]\ttrain-auc:0.67571\tval-auc:0.62261\n",
            "[320]\ttrain-auc:0.67581\tval-auc:0.62256\n",
            "[330]\ttrain-auc:0.67588\tval-auc:0.62249\n",
            "[340]\ttrain-auc:0.67599\tval-auc:0.62245\n",
            "[350]\ttrain-auc:0.67609\tval-auc:0.62241\n",
            "[360]\ttrain-auc:0.67612\tval-auc:0.62242\n",
            "[370]\ttrain-auc:0.67615\tval-auc:0.62238\n",
            "[380]\ttrain-auc:0.67620\tval-auc:0.62237\n",
            "[390]\ttrain-auc:0.67626\tval-auc:0.62229\n",
            "[400]\ttrain-auc:0.67663\tval-auc:0.62195\n",
            "[410]\ttrain-auc:0.67677\tval-auc:0.62189\n",
            "[420]\ttrain-auc:0.67686\tval-auc:0.62179\n",
            "[430]\ttrain-auc:0.67697\tval-auc:0.62169\n",
            "[440]\ttrain-auc:0.67701\tval-auc:0.62167\n",
            "[450]\ttrain-auc:0.67706\tval-auc:0.62161\n",
            "[460]\ttrain-auc:0.67711\tval-auc:0.62157\n",
            "[470]\ttrain-auc:0.67718\tval-auc:0.62150\n",
            "[480]\ttrain-auc:0.67725\tval-auc:0.62146\n",
            "[490]\ttrain-auc:0.67730\tval-auc:0.62143\n",
            "[499]\ttrain-auc:0.67732\tval-auc:0.62139\n"
          ]
        }
      ],
      "source": [
        "watchlist = [(dtrain, 'train'), (dval, 'val')]\n",
        "\n",
        "xgb_params = {\n",
        "    'eta': 0.3,\n",
        "    'max_depth': 10,\n",
        "    'min_child_weight': 1,\n",
        "\n",
        "    'objective': 'binary:logistic',\n",
        "    'eval_metric': 'auc',\n",
        "    'nthread': 8,\n",
        "    'seed': 1\n",
        "}\n",
        "\n",
        "model = xgb.train(xgb_params, dtrain,\n",
        "                  num_boost_round=500,\n",
        "                  evals=watchlist, verbose_eval=10)\n"
      ],
      "id": "ZAjfp6BC6sJH"
    },
    {
      "cell_type": "code",
      "execution_count": null,
      "metadata": {
        "colab": {
          "base_uri": "https://localhost:8080/"
        },
        "id": "8eauwL0MNCsa",
        "outputId": "394391b2-01f6-4263-e492-ed32f538a7cb"
      },
      "outputs": [
        {
          "name": "stdout",
          "output_type": "stream",
          "text": [
            "omitted column:Product auc_score:0.6227603469464981\n",
            "omitted column:Issue auc_score:0.6209539498265475\n",
            "omitted column:Consumer_consent_provided? auc_score:0.6257742831923091\n",
            "omitted column:Submitted_via auc_score:0.6097919953923326\n",
            "omitted column:Company_response_to_consumer auc_score:0.601852468404555\n",
            "omitted column:Timely_response? auc_score:0.6204447392207668\n",
            "omitted column:Year auc_score:0.6173129420172121\n"
          ]
        }
      ],
      "source": [
        "for col in columns:\n",
        "  cols = columns.copy()\n",
        "  cols.remove(col)\n",
        "  train_dict = df_train[cols].to_dict(orient='records')\n",
        "  dv = DictVectorizer()\n",
        "  X_train = dv.fit_transform(train_dict)\n",
        "  val_dict = df_val[cols].to_dict(orient='records')\n",
        "  X_val = dv.transform(val_dict)\n",
        "\n",
        "  dtrain = xgb.DMatrix(X_train, label=y_train, feature_names= dv.feature_names_)\n",
        "  dval = xgb.DMatrix(X_val, label=y_val, feature_names= dv.feature_names_)\n",
        "\n",
        "  xgb_clf = xgb.train(xgb_params, dtrain, num_boost_round=500)\n",
        "  y_pred_xgb = xgb_clf.predict(dval)\n",
        "  score = roc_auc_score(y_val, y_pred_xgb)\n",
        "  print(f\"omitted column:{col} auc_score:{score}\")\n"
      ],
      "id": "8eauwL0MNCsa"
    },
    {
      "cell_type": "code",
      "execution_count": null,
      "metadata": {
        "colab": {
          "base_uri": "https://localhost:8080/"
        },
        "id": "qcMX5q_DUQkx",
        "outputId": "4ab3bfc2-0c05-4d05-b454-1ce8f48ebe05"
      },
      "outputs": [
        {
          "name": "stdout",
          "output_type": "stream",
          "text": [
            "columns trained on:['Product'] auc_score:0.5555742421238484\n",
            "columns trained on:['Product', 'Issue'] auc_score:0.5725858843344157\n",
            "columns trained on:['Product', 'Issue', 'Consumer_consent_provided?'] auc_score:0.5720150452199069\n",
            "columns trained on:['Product', 'Issue', 'Consumer_consent_provided?', 'Submitted_via'] auc_score:0.5918692921379034\n",
            "columns trained on:['Product', 'Issue', 'Consumer_consent_provided?', 'Submitted_via', 'Company_response_to_consumer'] auc_score:0.6154812606106677\n",
            "columns trained on:['Product', 'Issue', 'Consumer_consent_provided?', 'Submitted_via', 'Company_response_to_consumer', 'Timely_response?'] auc_score:0.6173129420172121\n",
            "columns trained on:['Product', 'Issue', 'Consumer_consent_provided?', 'Submitted_via', 'Company_response_to_consumer', 'Timely_response?', 'Year'] auc_score:0.6213920720658994\n"
          ]
        }
      ],
      "source": [
        "cols = columns.copy()\n",
        "new_cols = []\n",
        "for col in cols:\n",
        "  new_cols.append(col)\n",
        "  train_dict = df_train[new_cols].to_dict(orient='records')\n",
        "  dv = DictVectorizer()\n",
        "  X_train = dv.fit_transform(train_dict)\n",
        "  val_dict = df_val[new_cols].to_dict(orient='records')\n",
        "  X_val = dv.transform(val_dict)\n",
        "\n",
        "  dtrain = xgb.DMatrix(X_train, label=y_train, feature_names= dv.feature_names_)\n",
        "  dval = xgb.DMatrix(X_val, label=y_val, feature_names= dv.feature_names_)\n",
        "\n",
        "  xgb_clf = xgb.train(xgb_params, dtrain, num_boost_round=500)\n",
        "  y_pred_xgb = xgb_clf.predict(dval)\n",
        "  score = roc_auc_score(y_val, y_pred_xgb)\n",
        "\n",
        "  print(f\"columns trained on:{new_cols} auc_score:{score}\")\n"
      ],
      "id": "qcMX5q_DUQkx"
    },
    {
      "cell_type": "markdown",
      "metadata": {
        "id": "0bwuXMx7VkD0"
      },
      "source": [
        "### Logistic Regression"
      ],
      "id": "0bwuXMx7VkD0"
    },
    {
      "cell_type": "code",
      "execution_count": null,
      "metadata": {
        "colab": {
          "base_uri": "https://localhost:8080/"
        },
        "id": "DMRAkAMLViXa",
        "outputId": "284b0093-5487-403e-f890-a85d34b7d7c7"
      },
      "outputs": [
        {
          "name": "stdout",
          "output_type": "stream",
          "text": [
            "1 0.584085930395966\n",
            "\n",
            "0.1 0.5841014301066381\n",
            "\n",
            "0.01 0.5839567661403655\n",
            "\n",
            "0.001 0.5846645862610566\n",
            "\n"
          ]
        }
      ],
      "source": [
        "for c in [1, 0.1, 0.01, 0.001]:\n",
        "  lr = LogisticRegression(C=c, solver='saga', max_iter=1000)\n",
        "  lr.fit(X_train, y_train)\n",
        "  y_pred_lr = lr.predict(X_val)\n",
        "  lr_score = roc_auc_score(y_val, y_pred_lr)\n",
        "  print(c, lr_score)\n",
        "  print()"
      ],
      "id": "DMRAkAMLViXa"
    },
    {
      "cell_type": "markdown",
      "metadata": {
        "id": "3cPgRl2dwhRx"
      },
      "source": [
        "### GridSearchCV\n"
      ],
      "id": "3cPgRl2dwhRx"
    },
    {
      "cell_type": "markdown",
      "metadata": {
        "id": "GIgu8S6s7GwS"
      },
      "source": [
        "#### Random Forests"
      ],
      "id": "GIgu8S6s7GwS"
    },
    {
      "cell_type": "code",
      "execution_count": null,
      "metadata": {
        "id": "59aUwmm6wgEg"
      },
      "outputs": [],
      "source": [
        "#creating an instance of the random forest classifier\n",
        "rf = RandomForestClassifier()\n",
        "\n",
        "#specifying parameters for GridSearchCV\n",
        "rf_params = {\n",
        "    'n_estimators': [10, 50, 100, 150, 200],\n",
        "    'max_depth': [1, 3, 5, 7, 9],\n",
        "    'min_samples_split': [5, 10, 20, 50, 100],\n",
        "    'min_samples_leaf': [1, 3, 5, 7, 9],\n",
        "    'bootstrap': [True, False],\n",
        "    'max_features':[2, 3, 4, 5,]\n",
        "}\n",
        "\n",
        "#creating a GridSearchCV Instance with specified parameters\n",
        "rf_grid = GridSearchCV(rf, rf_params, scoring='roc_auc', cv=4)\n",
        "\n",
        "#training the model\n",
        "rf_grid.fit(X_train, y_train)\n",
        "\n",
        "#best combination of parameters\n",
        "print(rf_grid.best_params_)\n",
        "\n",
        "#best score\n",
        "print(rf_grid.best_score_)\n",
        "\n"
      ],
      "id": "59aUwmm6wgEg"
    },
    {
      "cell_type": "markdown",
      "metadata": {
        "id": "24rGFyI1M9wt"
      },
      "source": [
        "###XGBoost\n"
      ],
      "id": "24rGFyI1M9wt"
    },
    {
      "cell_type": "code",
      "execution_count": null,
      "metadata": {
        "colab": {
          "base_uri": "https://localhost:8080/"
        },
        "id": "5uF2YkJ5MKk8",
        "outputId": "0395c3f6-7c59-455b-965b-2d77bc7b0404"
      },
      "outputs": [
        {
          "output_type": "stream",
          "name": "stdout",
          "text": [
            "{'learning_rate': 0.1, 'max_depth': 9, 'n_estimators': 200}\n",
            "0.6505904956858395\n"
          ]
        }
      ],
      "source": [
        " # #instantiating model\n",
        "xgb_clf = xgb.XGBClassifier(booster=\"gbtree\", random_state=11)\n",
        "\n",
        "xgb_params = {\n",
        "    'n_estimators': [10, 100, 200],\n",
        "    'learning_rate': [0.001, 0.01, 0.1],\n",
        "    'max_depth': [3, 5, 7, 9],\n",
        "}\n",
        "\n",
        "xgb_grid = GridSearchCV(xgb_clf, xgb_params, scoring='roc_auc', cv=4)\n",
        "\n",
        "xgb_grid.fit(X_train, y_train)\n",
        "\n",
        "\n",
        "#best combination of parameters\n",
        "print(xgb_grid.best_params_)\n",
        "\n",
        "#best score\n",
        "print(xgb_grid.best_score_)"
      ],
      "id": "5uF2YkJ5MKk8"
    },
    {
      "cell_type": "markdown",
      "source": [
        "Final Model"
      ],
      "metadata": {
        "id": "ePyVI-hIAKZQ"
      },
      "id": "ePyVI-hIAKZQ"
    },
    {
      "cell_type": "code",
      "source": [
        "#storing features in a dmatrix\n",
        "dtrain = xgb.DMatrix(X_train, label=y_train, feature_names= dv.feature_names_)\n",
        "dval = xgb.DMatrix(X_val, label=y_val, feature_names= dv.feature_names_)\n",
        "\n",
        "#specifying parameters\n",
        "xgb_params = {\n",
        "    'n_estimators': 200,\n",
        "    'learning_rate': 0.1,\n",
        "    'max_depth': 9\n",
        "}\n",
        "\n",
        "xgb_clf = xgb.train(xgb_params, dtrain)\n",
        "\n",
        "y_pred_xgb = xgb_clf.predict(dval)\n",
        "\n",
        "score = roc_auc_score(y_val, y_pred_xgb)\n",
        "\n",
        "print(score)"
      ],
      "metadata": {
        "colab": {
          "base_uri": "https://localhost:8080/"
        },
        "id": "VvbEpHuZAJHo",
        "outputId": "6247bea0-3ea0-4654-dcc9-5ba1d3cc6a3f"
      },
      "id": "VvbEpHuZAJHo",
      "execution_count": null,
      "outputs": [
        {
          "output_type": "stream",
          "name": "stdout",
          "text": [
            "[11:44:28] WARNING: ../src/learner.cc:767: \n",
            "Parameters: { \"n_estimators\" } are not used.\n",
            "\n",
            "0.6307532758720293\n"
          ]
        }
      ]
    },
    {
      "cell_type": "code",
      "source": [],
      "metadata": {
        "id": "-LgBhp8kPkTp"
      },
      "id": "-LgBhp8kPkTp",
      "execution_count": null,
      "outputs": []
    }
  ],
  "metadata": {
    "colab": {
      "provenance": []
    },
    "kernelspec": {
      "display_name": "Python 3 (ipykernel)",
      "language": "python",
      "name": "python3"
    },
    "language_info": {
      "codemirror_mode": {
        "name": "ipython",
        "version": 3
      },
      "file_extension": ".py",
      "mimetype": "text/x-python",
      "name": "python",
      "nbconvert_exporter": "python",
      "pygments_lexer": "ipython3",
      "version": "3.9.7"
    }
  },
  "nbformat": 4,
  "nbformat_minor": 5
}