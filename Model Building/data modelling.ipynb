{
 "cells": [
  {
   "cell_type": "markdown",
   "id": "0af34e85-4bf9-4839-b464-ced1fd3faf7a",
   "metadata": {},
   "source": [
    "## This Notebook shows the data modelling process on the cleaned data"
   ]
  },
  {
   "cell_type": "code",
   "execution_count": 1,
   "id": "24a2c4b1-75f3-4c2f-ac03-dca458a3a34b",
   "metadata": {},
   "outputs": [],
   "source": [
    "import pandas as pd \n",
    "import numpy as np \n",
    "import seaborn as sns \n",
    "import matplotlib.pyplot as plt\n",
    "import warnings\n",
    "warnings.filterwarnings(\"ignore\")\n",
    "from sklearn.model_selection import train_test_split\n",
    "from sklearn.metrics import mutual_info_score\n",
    "from sklearn.ensemble import RandomForestClassifier\n",
    "from sklearn.tree import DecisionTreeClassifier\n",
    "from sklearn.feature_extraction import DictVectorizer\n",
    "from sklearn.metrics import roc_auc_score\n",
    "from sklearn.metrics import roc_curve"
   ]
  },
  {
   "cell_type": "code",
   "execution_count": 4,
   "id": "9a72c026-a5c5-4db5-8fa6-fe184de4adcf",
   "metadata": {},
   "outputs": [],
   "source": [
    "data  = pd.read_csv(\"Cleaned_Consumer_Complaints.csv\")\n",
    "df = data.copy()"
   ]
  },
  {
   "cell_type": "code",
   "execution_count": 5,
   "id": "1ccba2ae-eeb1-4076-83bc-189d0631173e",
   "metadata": {},
   "outputs": [
    {
     "name": "stdout",
     "output_type": "stream",
     "text": [
      "<class 'pandas.core.frame.DataFrame'>\n",
      "RangeIndex: 593746 entries, 0 to 593745\n",
      "Data columns (total 11 columns):\n",
      " #   Column                        Non-Null Count   Dtype \n",
      "---  ------                        --------------   ----- \n",
      " 0   Product                       593746 non-null  object\n",
      " 1   Issue                         593746 non-null  object\n",
      " 2   Company                       593746 non-null  object\n",
      " 3   State                         593746 non-null  object\n",
      " 4   ZIP_code                      593746 non-null  object\n",
      " 5   Consumer_consent_provided?    593746 non-null  object\n",
      " 6   Submitted_via                 593746 non-null  object\n",
      " 7   Date_sent_to_company          593746 non-null  object\n",
      " 8   Company_response_to_consumer  593746 non-null  object\n",
      " 9   Timely_response?              593746 non-null  object\n",
      " 10  Consumer_disputed?            593746 non-null  object\n",
      "dtypes: object(11)\n",
      "memory usage: 49.8+ MB\n"
     ]
    }
   ],
   "source": [
    "df.info()\n"
   ]
  },
  {
   "cell_type": "code",
   "execution_count": 6,
   "id": "f070fe0d-9181-4acb-8b0d-e4f56d8a76f0",
   "metadata": {},
   "outputs": [
    {
     "data": {
      "text/html": [
       "<div>\n",
       "<style scoped>\n",
       "    .dataframe tbody tr th:only-of-type {\n",
       "        vertical-align: middle;\n",
       "    }\n",
       "\n",
       "    .dataframe tbody tr th {\n",
       "        vertical-align: top;\n",
       "    }\n",
       "\n",
       "    .dataframe thead th {\n",
       "        text-align: right;\n",
       "    }\n",
       "</style>\n",
       "<table border=\"1\" class=\"dataframe\">\n",
       "  <thead>\n",
       "    <tr style=\"text-align: right;\">\n",
       "      <th></th>\n",
       "      <th>Product</th>\n",
       "      <th>Issue</th>\n",
       "      <th>Company</th>\n",
       "      <th>State</th>\n",
       "      <th>ZIP_code</th>\n",
       "      <th>Consumer_consent_provided?</th>\n",
       "      <th>Submitted_via</th>\n",
       "      <th>Date_sent_to_company</th>\n",
       "      <th>Company_response_to_consumer</th>\n",
       "      <th>Timely_response?</th>\n",
       "      <th>Consumer_disputed?</th>\n",
       "    </tr>\n",
       "  </thead>\n",
       "  <tbody>\n",
       "    <tr>\n",
       "      <th>0</th>\n",
       "      <td>Credit reporting</td>\n",
       "      <td>Incorrect information on credit report</td>\n",
       "      <td>EXPERIAN DELAWARE GP</td>\n",
       "      <td>TX</td>\n",
       "      <td>77075</td>\n",
       "      <td>Consent provided</td>\n",
       "      <td>Phone</td>\n",
       "      <td>03/21/2017</td>\n",
       "      <td>Closed with non-monetary relief</td>\n",
       "      <td>Yes</td>\n",
       "      <td>No</td>\n",
       "    </tr>\n",
       "    <tr>\n",
       "      <th>1</th>\n",
       "      <td>Debt collection</td>\n",
       "      <td>Disclosure verification of debt</td>\n",
       "      <td>Security Credit Services, LLC</td>\n",
       "      <td>IL</td>\n",
       "      <td>60643</td>\n",
       "      <td>Consent provided</td>\n",
       "      <td>Web</td>\n",
       "      <td>04/20/2017</td>\n",
       "      <td>Closed with explanation</td>\n",
       "      <td>Yes</td>\n",
       "      <td>No</td>\n",
       "    </tr>\n",
       "    <tr>\n",
       "      <th>2</th>\n",
       "      <td>Credit card</td>\n",
       "      <td>Other</td>\n",
       "      <td>CITIBANK, N.A.</td>\n",
       "      <td>IL</td>\n",
       "      <td>62025</td>\n",
       "      <td>Consent provided</td>\n",
       "      <td>Referral</td>\n",
       "      <td>04/20/2017</td>\n",
       "      <td>Closed with explanation</td>\n",
       "      <td>Yes</td>\n",
       "      <td>No</td>\n",
       "    </tr>\n",
       "    <tr>\n",
       "      <th>3</th>\n",
       "      <td>Mortgage</td>\n",
       "      <td>Loan modification,collection,foreclosure</td>\n",
       "      <td>Shellpoint Partners, LLC</td>\n",
       "      <td>CA</td>\n",
       "      <td>90305</td>\n",
       "      <td>Consent provided</td>\n",
       "      <td>Referral</td>\n",
       "      <td>04/14/2017</td>\n",
       "      <td>Closed with explanation</td>\n",
       "      <td>Yes</td>\n",
       "      <td>No</td>\n",
       "    </tr>\n",
       "    <tr>\n",
       "      <th>4</th>\n",
       "      <td>Credit card</td>\n",
       "      <td>Credit determination</td>\n",
       "      <td>U.S. BANCORP</td>\n",
       "      <td>LA</td>\n",
       "      <td>70571</td>\n",
       "      <td>Consent provided</td>\n",
       "      <td>Postal mail</td>\n",
       "      <td>04/21/2017</td>\n",
       "      <td>Closed with explanation</td>\n",
       "      <td>Yes</td>\n",
       "      <td>No</td>\n",
       "    </tr>\n",
       "  </tbody>\n",
       "</table>\n",
       "</div>"
      ],
      "text/plain": [
       "            Product                                     Issue  \\\n",
       "0  Credit reporting    Incorrect information on credit report   \n",
       "1   Debt collection           Disclosure verification of debt   \n",
       "2       Credit card                                     Other   \n",
       "3          Mortgage  Loan modification,collection,foreclosure   \n",
       "4       Credit card                      Credit determination   \n",
       "\n",
       "                         Company State ZIP_code Consumer_consent_provided?  \\\n",
       "0           EXPERIAN DELAWARE GP    TX    77075           Consent provided   \n",
       "1  Security Credit Services, LLC    IL    60643           Consent provided   \n",
       "2                 CITIBANK, N.A.    IL    62025           Consent provided   \n",
       "3       Shellpoint Partners, LLC    CA    90305           Consent provided   \n",
       "4                   U.S. BANCORP    LA    70571           Consent provided   \n",
       "\n",
       "  Submitted_via Date_sent_to_company     Company_response_to_consumer  \\\n",
       "0         Phone           03/21/2017  Closed with non-monetary relief   \n",
       "1           Web           04/20/2017          Closed with explanation   \n",
       "2      Referral           04/20/2017          Closed with explanation   \n",
       "3      Referral           04/14/2017          Closed with explanation   \n",
       "4   Postal mail           04/21/2017          Closed with explanation   \n",
       "\n",
       "  Timely_response? Consumer_disputed?  \n",
       "0              Yes                 No  \n",
       "1              Yes                 No  \n",
       "2              Yes                 No  \n",
       "3              Yes                 No  \n",
       "4              Yes                 No  "
      ]
     },
     "execution_count": 6,
     "metadata": {},
     "output_type": "execute_result"
    }
   ],
   "source": [
    "df.head()"
   ]
  },
  {
   "cell_type": "code",
   "execution_count": null,
   "id": "fd69c931-70b7-490c-8d41-002ba891a275",
   "metadata": {},
   "outputs": [],
   "source": [
    "df['']"
   ]
  },
  {
   "cell_type": "markdown",
   "id": "48800b10-c6b4-4219-9871-5861f30aa67b",
   "metadata": {
    "tags": []
   },
   "source": [
    "### Feature engineering \n"
   ]
  },
  {
   "cell_type": "code",
   "execution_count": 11,
   "id": "70acfb87-0d5d-40a5-947c-7b85827d8819",
   "metadata": {},
   "outputs": [],
   "source": [
    "df['Date_sent_to_company'] = pd.to_datetime(df['Date_sent_to_company'])\n",
    "df['Year'] = df['Date_sent_to_company'].dt.year\n",
    "\n"
   ]
  },
  {
   "cell_type": "markdown",
   "id": "dcf20d4b-eace-45d4-ac79-13d64086f8bb",
   "metadata": {},
   "source": [
    "### Visualizing Target Variable "
   ]
  },
  {
   "cell_type": "code",
   "execution_count": 25,
   "id": "5f4d335a-d6a3-43dd-ad31-64ba03ef1f65",
   "metadata": {},
   "outputs": [
    {
     "data": {
      "text/plain": [
       "[Text(0.5, 0, 'Consumer_disputed?'),\n",
       " Text(0.5, 1.0, 'Distribution of COnsumer Disputed')]"
      ]
     },
     "execution_count": 25,
     "metadata": {},
     "output_type": "execute_result"
    },
    {
     "data": {
      "image/png": "[encoded data removed]",
      "text/plain": [
       "<Figure size 504x360 with 1 Axes>"
      ]
     },
     "metadata": {},
     "output_type": "display_data"
    }
   ],
   "source": [
    "plt.figure(figsize=(7,5))\n",
    "sns.set_style('darkgrid')\n",
    "ax = df['Consumer_disputed?'].value_counts().plot(kind=\"bar\")\n",
    "ax.set(xlabel=\"Consumer_disputed?\", title=\"Distribution of COnsumer Disputed\")"
   ]
  },
  {
   "cell_type": "markdown",
   "id": "2ad6f614-6ebc-4f1f-a6aa-2beaee960069",
   "metadata": {
    "tags": []
   },
   "source": [
    "### Data Preparation for Modelling"
   ]
  },
  {
   "cell_type": "code",
   "execution_count": 26,
   "id": "109e3ab4-4e18-4b9c-9837-0afd6a645fda",
   "metadata": {},
   "outputs": [],
   "source": [
    "#encoding \n",
    "df['Consumer_disputed?'] = df['Consumer_disputed?'].replace({\"Yes\": 1, \"No\": 0})\n",
    "df['Timely_response?'] = df['Timely_response?'].replace({\"Yes\": 1, \"No\": 0})\n",
    "\n",
    "#dropping columns \n",
    "df.drop(columns=[\"ZIP_code\", \"Date_sent_to_company\"], inplace=True)"
   ]
  },
  {
   "cell_type": "markdown",
   "id": "2b761e46-e045-4a82-b915-72c78f2d3d2b",
   "metadata": {},
   "source": [
    "### Splitting the data\n"
   ]
  },
  {
   "cell_type": "code",
   "execution_count": 27,
   "id": "5141d6cf-dfc1-4ff1-a331-ef4d82b66deb",
   "metadata": {},
   "outputs": [],
   "source": [
    "df_full_train, df_test = train_test_split(df, test_size=0.2, random_state=42)\n",
    "df_train, df_val = train_test_split(df_full_train, test_size=0.25, random_state=42)\n",
    "\n",
    "y_full_train = df_full_train['Consumer_disputed?'].values\n",
    "y_train = df_train['Consumer_disputed?'].values\n",
    "y_val = df_val['Consumer_disputed?'].values\n",
    "y_test = df_test['Consumer_disputed?'].values\n",
    "\n",
    "del df_full_train['Consumer_disputed?']\n",
    "del df_train['Consumer_disputed?']\n",
    "del df_val['Consumer_disputed?']\n",
    "del df_test['Consumer_disputed?']"
   ]
  },
  {
   "cell_type": "code",
   "execution_count": 28,
   "id": "d6cfc2f5-b20f-49c5-8a9d-9b98a842cad4",
   "metadata": {},
   "outputs": [],
   "source": [
    "#Transforming Data splits with one hot encoding \n",
    "train_dict = df_train.to_dict(orient=\"records\")\n",
    "dv = DictVectorizer()\n",
    "X_train = dv.fit_transform(train_dict)\n",
    "\n",
    "val_dict = df_val.to_dict(orient=\"records\")\n",
    "X_val = dv.transform(val_dict)"
   ]
  },
  {
   "cell_type": "markdown",
   "id": "67ea9e02-f904-4555-8079-91d2d4abb5fc",
   "metadata": {},
   "source": [
    "### Random Forest"
   ]
  },
  {
   "cell_type": "code",
   "execution_count": 41,
   "id": "0ad9f8be-b332-4dd9-a92c-09d187874b34",
   "metadata": {},
   "outputs": [],
   "source": [
    "rf = RandomForestClassifier(random_state=11)\n",
    "rf.fit(X_train, y_train)\n",
    "y_pred = rf.predict_proba(X_val)[:, 1]\n",
    "# roc_auc_score(y_val, y_pred)\n",
    "y_pred[:5]\n",
    "\n",
    "# dt = DecisionTreeClassifier()\n",
    "# dt.fit(X_train, y_train)\n",
    "# y_pred_rf = dt.predict_proba(X_val)[:, 1]\n",
    "# auc = roc_auc_score(y_val, y_pred_rf)\n",
    "\n",
    "print(f\"The score is {auc}\")"
   ]
  },
  {
   "cell_type": "code",
   "execution_count": 40,
   "id": "f5a909ab-fe03-42c5-a712-f4d6fa28d746",
   "metadata": {},
   "outputs": [
    {
     "ename": "NameError",
     "evalue": "name 'y_pred_rf' is not defined",
     "output_type": "error",
     "traceback": [
      "\u001b[1;31m---------------------------------------------------------------------------\u001b[0m",
      "\u001b[1;31mNameError\u001b[0m                                 Traceback (most recent call last)",
      "\u001b[1;32m~\\AppData\\Local\\Temp/ipykernel_14904/1329386819.py\u001b[0m in \u001b[0;36m<module>\u001b[1;34m\u001b[0m\n\u001b[1;32m----> 1\u001b[1;33m \u001b[0mauc\u001b[0m \u001b[1;33m=\u001b[0m \u001b[0mroc_auc_score\u001b[0m\u001b[1;33m(\u001b[0m\u001b[0my_val\u001b[0m\u001b[1;33m,\u001b[0m \u001b[0my_pred_rf\u001b[0m\u001b[1;33m)\u001b[0m\u001b[1;33m\u001b[0m\u001b[1;33m\u001b[0m\u001b[0m\n\u001b[0m\u001b[0;32m      2\u001b[0m \u001b[0mauc\u001b[0m\u001b[1;33m\u001b[0m\u001b[1;33m\u001b[0m\u001b[0m\n",
      "\u001b[1;31mNameError\u001b[0m: name 'y_pred_rf' is not defined"
     ]
    }
   ],
   "source": [
    "auc = roc_auc_score(y_val, y_pred_rf)\n",
    "auc"
   ]
  },
  {
   "cell_type": "code",
   "execution_count": null,
   "id": "11e83de2-b493-4b06-b515-f8f1f37d1666",
   "metadata": {},
   "outputs": [],
   "source": []
  }
 ],
 "metadata": {
  "kernelspec": {
   "display_name": "Python 3 (ipykernel)",
   "language": "python",
   "name": "python3"
  },
  "language_info": {
   "codemirror_mode": {
    "name": "ipython",
    "version": 3
   },
   "file_extension": ".py",
   "mimetype": "text/x-python",
   "name": "python",
   "nbconvert_exporter": "python",
   "pygments_lexer": "ipython3",
   "version": "3.9.7"
  }
 },
 "nbformat": 4,
 "nbformat_minor": 5
}
